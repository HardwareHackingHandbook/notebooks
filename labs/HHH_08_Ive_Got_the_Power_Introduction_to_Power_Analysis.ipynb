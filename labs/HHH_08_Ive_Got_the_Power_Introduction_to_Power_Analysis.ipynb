{
 "cells": [
  {
   "cell_type": "markdown",
   "metadata": {},
   "source": [
    "# Chapter 8: I've Got the Power: Introduction to Power Analysis"
   ]
  },
  {
   "cell_type": "markdown",
   "metadata": {},
   "source": [
    "This notebook is a companion to Chapter 8 of The Hardware Hacking Handbook by Jasper van Woudenberg and Colin O'Flynn. The headings in this notebook follow the headings in the book.\n",
    "\n",
    "© 2021. This work is licensed under a [CC BY-SA 4.0 license](https://creativecommons.org/licenses/by-sa/4.0/). "
   ]
  },
  {
   "cell_type": "markdown",
   "metadata": {},
   "source": [
    "## SPA on ECDSA"
   ]
  },
  {
   "cell_type": "markdown",
   "metadata": {},
   "source": [
    "### Goal and notation, finding the leaky operation"
   ]
  },
  {
   "cell_type": "code",
   "execution_count": null,
   "metadata": {},
   "outputs": [],
   "source": [
    "# Some code from Simple ECDSA sage notebook (greg@xiph.org)\n",
    "# https://github.com/TheBlueMatt/bitcoinninja/blob/master/secp256k1.ecdsa.sage\n",
    "\n",
    "import numpy as np\n",
    "from fastecdsa import keys, point, curve\n",
    "import random\n",
    "from gmpy2 import invert, t_mod\n",
    "from bokeh.io import output_notebook, export_svgs\n",
    "from bokeh.plotting import figure, show\n",
    "from bokeh.models import Label\n",
    "from itertools import groupby\n",
    "\n",
    "np.random.seed(1337) # Make sure we generate same results every time\n",
    "random.seed(1337)"
   ]
  },
  {
   "cell_type": "code",
   "execution_count": null,
   "metadata": {},
   "outputs": [],
   "source": [
    "# Normal distribution for add/double operations (mean,stddev). \n",
    "# You can tune this to create more or less overlap in the distributions\n",
    "TIMING=(10,2.1)\n",
    "\n",
    "# Implement textbook elliptic curve scalar multiplication\n",
    "# But leak timing info, like in an SPA trace\n",
    "def leaky_scalar_mul(secret, P):\n",
    "    Q = point.Point.IDENTITY_ELEMENT\n",
    "    time = 0\n",
    "    timeleak = [time] # Leak time\n",
    "    \n",
    "    # Loop over secret bits\n",
    "    while secret > 0:\n",
    "        keybit = secret & 1\n",
    "        if keybit: # Bit set to 1? Point addition\n",
    "            Q = Q + P\n",
    "            time += np.random.normal(TIMING[0], TIMING[1])\n",
    "            \n",
    "        P = 2*P # Always point doubling\n",
    "        secret = secret >> 1\n",
    "\n",
    "        time += np.random.normal(TIMING[0], TIMING[1])\n",
    "        timeleak.append(time) # Leak time\n",
    "\n",
    "    return timeleak, Q\n",
    "\n",
    "# Do a leaky ECDSA sign over curv with message e and private key d, optionally given k\n",
    "def ecdsa_sign_leaky(curv, e, d, k=None):\n",
    "    if not k:\n",
    "        k = random.getrandbits(d.bit_length()) # get nonce\n",
    "    \n",
    "    timeleak, R = leaky_scalar_mul(k, curv.G)  \n",
    "    \n",
    "    # ECDSA signature\n",
    "    r = R.x\n",
    "    s = t_mod(invert(k, curv.q) * (e + r * d), curv.q) # s = (1/k)*(e+r*d) mod q\n",
    "\n",
    "    return timeleak, r, s, k\n",
    "\n",
    "# ECDSA signature verification\n",
    "def ecdsa_verify(curv, r, s, e, pd):\n",
    "    s_inv = int(invert(s, curv.q))        # s^-1 mod q\n",
    "    r_calc = (s_inv * e * curv.G + r * s_inv * pd).x  # s^-1 * e * G + r * s^-1 * pd \n",
    "    verifies = r == r_calc # Should be True!\n",
    "    return verifies\n",
    "\n",
    "# Generate a random message and pub/private keypair for specified curv\n",
    "def gen_msg_and_key(curv):\n",
    "    d, pd = keys.gen_keypair(curv) # random secret and our pubkey\n",
    "    e = random.getrandbits(curv.p.bit_length()) # random message\n",
    "\n",
    "    return e, d, pd"
   ]
  },
  {
   "cell_type": "code",
   "execution_count": null,
   "metadata": {},
   "outputs": [],
   "source": [
    "# Perform leaky ECDSA signature and check signature. This is just for functional correctness.\n",
    "curv = curve.secp256k1 \n",
    "e, d, pd = gen_msg_and_key(curv)\n",
    "timeleak, r, s, k = ecdsa_sign_leaky(curv, e, d)\n",
    "verifies = ecdsa_verify(curv, r, s, e, pd)\n",
    "\n",
    "print(\"Private key d:\", bin(d))\n",
    "print(\"Public point pd: \", pd)\n",
    "print(\"Message e:\", bin(e)) \n",
    "print(\"Secret nonce k:\", bin(k))\n",
    "print(\"Signature verifies (should be True):\", verifies)"
   ]
  },
  {
   "cell_type": "markdown",
   "metadata": {},
   "source": [
    "### Simulating SPA traces of a leaky ECDSA"
   ]
  },
  {
   "cell_type": "code",
   "execution_count": null,
   "metadata": {},
   "outputs": [],
   "source": [
    "SAMPLES_PER_LOOP=10 # This is a 'sampling rate'. Higher means more precise time measurement.\n",
    "SCOPE_NOISE=0.05    # This is the amount of 'acquisition noise' to add to the measurement. \n",
    "\n",
    "# Take the time leakages, and create a simulated trace\n",
    "def timeleak_to_trace(timeleak, samples_per_loop, scope_noise):\n",
    "    points = len(timeleak)*SAMPLES_PER_LOOP  # Trace length samples\n",
    "    timeleak0 = np.asarray(timeleak) - timeleak[0] # Zero-base time\n",
    "    timeidx = (timeleak0 / timeleak0[-1] * (points-1)).astype(int) # Convert to int indices\n",
    "    trace = np.ones(points) # Set all to power value 1\n",
    "    trace[timeidx] = 0 # Except when switch between operations\n",
    "\n",
    "    # Add measurement noise\n",
    "    trace += np.random.normal(0, scope_noise, len(trace))\n",
    "    \n",
    "    return trace, timeleak0"
   ]
  },
  {
   "cell_type": "code",
   "execution_count": null,
   "metadata": {},
   "outputs": [],
   "source": [
    "# Plot a trace \n",
    "TRIM = 200  # Initial zoom in samples\n",
    "\n",
    "trace, timeleak0 = timeleak_to_trace(timeleak, SAMPLES_PER_LOOP, SCOPE_NOISE)\n",
    "\n",
    "# Plot simulated trace\n",
    "output_notebook()\n",
    "p = figure(x_range=(0,TRIM), x_axis_label='\"Time\"', y_axis_label='\"Volt\"', title=\"ECDSA sign trace with actual nonce bits k\")\n",
    "\n",
    "p.line(range(len(trace)), trace, line_color=\"blue\")\n",
    "\n",
    "# Plot known bits\n",
    "op_idx = timeleak0 / timeleak0[-1] * (len(trace)-1)+0.5\n",
    "for bit in range(len(op_idx)):\n",
    "    p.add_layout(Label(x=op_idx[bit], y=0.8, text=str(k>>bit&1), text_color=\"red\"))\n",
    "\n",
    "show(p)\n",
    "p.output_backend = \"svg\"\n",
    "export_svgs(p, filename=\"fig/8_8.svg\")"
   ]
  },
  {
   "cell_type": "markdown",
   "metadata": {},
   "source": [
    "### Measuring scalar multiplication loop duration "
   ]
  },
  {
   "cell_type": "code",
   "execution_count": null,
   "metadata": {
    "scrolled": true
   },
   "outputs": [],
   "source": [
    "# This is where SPA magic happens. We turn a sampled trace into a list of durations between peaks\n",
    "def trace_to_difftime(trace):\n",
    "    threshold = (min(trace) + max(trace)) / 2 # Threshold on the y axis\n",
    "    trace_bin = (trace > threshold)*1 # Turn trace into a binary representation over/under threshold\n",
    "    \n",
    "    # This takes the binary trace and turns it into run-lengths, as follows:\n",
    "    # [0, 1, 1, 0, 1, 0, 1, 1, 1] => \n",
    "    # groupby() => \n",
    "    # (0,[0]), (1,[1, 1]), (0,[0]), (1,[1]), (0,[0]), (1,[1, 1, 1]) => \n",
    "    # filter for val==1 => \n",
    "    # [1, 1], [1], [1, 1, 1] => \n",
    "    # sum(1 for _ in group) => (technical note: groups aren't lists but iterators, therefore we use sum)\n",
    "    # 2, 1, 3\n",
    "    trace_rle = np.asarray([sum(1 for _ in group) for val,group in groupby(trace_bin) if val==1])\n",
    "    \n",
    "    return trace_rle, trace_bin, threshold"
   ]
  },
  {
   "cell_type": "code",
   "execution_count": null,
   "metadata": {},
   "outputs": [],
   "source": [
    "# Let's plot the binary trace, threshold, and distances between peaks\n",
    "trace_rle, trace_bin, threshold = trace_to_difftime(trace)\n",
    "\n",
    "# Init figure\n",
    "output_notebook()\n",
    "p = figure(x_range=(0,TRIM), x_axis_label='\"Time\"', y_axis_label='\"Binary\"', title=\"ECDSA sign binary trace with peak distances at given threshold\")\n",
    "\n",
    "# Binary trace\n",
    "p.line(range(len(trace)), trace_bin, line_color=\"blue\")\n",
    "\n",
    "# Threshold line\n",
    "p.line([0, len(trace)], [threshold,threshold], line_width=4, color='black', line_dash='dashed')\n",
    "\n",
    "# Plot distances\n",
    "for idx in range(len(trace_rle)):\n",
    "    p.add_layout(Label(x=op_idx[idx], y=0.8, text=str(trace_rle[idx]), text_color=\"green\"))\n",
    "\n",
    "show(p)\n",
    "p.output_backend = \"svg\"\n",
    "export_svgs(p, filename=\"fig/8_9.svg\")"
   ]
  },
  {
   "cell_type": "markdown",
   "metadata": {},
   "source": [
    "### From durations to bits"
   ]
  },
  {
   "cell_type": "code",
   "execution_count": null,
   "metadata": {},
   "outputs": [],
   "source": [
    "# This performs the Simple Power Analysis by turning given traces into peak distances, \n",
    "# and in turn turning these distances into bits of guessed nonce k.\n",
    "def simple_power_analysis(trace):\n",
    "    # Turn trace into 'time differences between peaks'\n",
    "    difftime, _, _ = trace_to_difftime(trace)\n",
    "    \n",
    "    # Determining the cutoff is quite critical. \n",
    "    # We take the midpoint between 25th and 75th percentile, which is less sensitive to outliers \n",
    "    # than taking the average. For some distributions, average works better. YMMV.\n",
    "    cutoff = (np.percentile(difftime, 75) + np.percentile(difftime, 25)) / 2\n",
    "    \n",
    "    bitguess_rev = (difftime > cutoff)*1 # Guess bits based on cutoff\n",
    "    bitguess = bitguess_rev[::-1] # Reverse array\n",
    "\n",
    "    # Create k we guess without bruteforce\n",
    "    guessed_k_base = int(\"\".join([str(x) for x in bitguess.tolist()]),2) # Convert to int, optimized for LOC\n",
    "    \n",
    "    # Find bits closest to the cutoff\n",
    "    cutoff_dist = np.abs(difftime - cutoff) # Calculate distance to cutoff for each bit\n",
    "    closest = np.argsort(cutoff_dist) # Sort by distance, get index \n",
    "    \n",
    "    return closest, guessed_k_base, difftime, cutoff"
   ]
  },
  {
   "cell_type": "code",
   "execution_count": null,
   "metadata": {},
   "outputs": [],
   "source": [
    "# Create a power-like trace\n",
    "_, _, difftime, cutoff = simple_power_analysis(trace)"
   ]
  },
  {
   "cell_type": "code",
   "execution_count": null,
   "metadata": {},
   "outputs": [],
   "source": [
    "# Let's have a look at the two distributions of time for double only or double+add\n",
    "BINS=7 # Number of bins per histogram\n",
    "\n",
    "bitactual = np.asarray([int(k & (1<<x) > 0) for x in range(0,len(difftime))]) # Turn k into bit vector\n",
    "\n",
    "# Plot two histograms and cutoff\n",
    "output_notebook()\n",
    "p = figure(x_axis_label=\"Duration\", y_axis_label=\"Count\", title=\"Distributions for Double vs Double+Add, shown with cutoff\")\n",
    "\n",
    "# Calc histograms for bits 0 and 1\n",
    "hist_0,edges_0 = np.histogram(difftime[bitactual==0], bins=BINS)\n",
    "hist_1,edges_1 = np.histogram(difftime[bitactual==1], bins=BINS)\n",
    "\n",
    "# Plot histograms\n",
    "p.quad(top=hist_0,bottom=0,left=edges_0[:-1],right=edges_0[1:],fill_color='red',line_color='black', fill_alpha=0.5)\n",
    "p.quad(top=hist_1,bottom=0,left=edges_1[:-1],right=edges_1[1:],fill_color='blue',line_color='black', fill_alpha=0.5)\n",
    "\n",
    "# Add cutoff as vertical line\n",
    "p.line([cutoff, cutoff], [0,np.max([hist_0, hist_1])], line_width=4, color='black', line_dash='dashed')\n",
    "\n",
    "show(p)\n",
    "p.output_backend = \"svg\"\n",
    "export_svgs(p, filename=\"fig/8_10.svg\")"
   ]
  },
  {
   "cell_type": "markdown",
   "metadata": {},
   "source": [
    "### Bruteforcing our way out"
   ]
  },
  {
   "cell_type": "code",
   "execution_count": null,
   "metadata": {},
   "outputs": [],
   "source": [
    "# Since we have some overlapping distributions, we'll have bit errors we'll need to bruteforce\n",
    "# This function does a bruteforce of the bits closest to the decision boundary\n",
    "def bruteforce(bits, guessed_k_base, closest, curv, r, s, e, pd, d):\n",
    "    print(\"Bruteforcing bits:\", closest[:bits])\n",
    "    \n",
    "    for i in range(0, 2**bits):\n",
    "        guessed_k = guessed_k_base\n",
    "        \n",
    "        # Flip bits in guessed_k according to our bruteforce counter i\n",
    "        for x in range(bits):\n",
    "            bitset = (i>>x) & 1         # 1 or 0\n",
    "            bitval = 1<<int(closest[x]) # Get index to flip\n",
    "            guessed_k = guessed_k ^ (bitset * bitval) # Flip correct bit iff bitset==1\n",
    "           \n",
    "        # Computed d from guessed k and signature\n",
    "        computed_d = t_mod((s*guessed_k-e) * invert(r, curv.q), curv.q)\n",
    "        \n",
    "        if d:\n",
    "            # If we have knowledge of d, just directly compare (fast)\n",
    "            done = computed_d == d\n",
    "        else:\n",
    "            # Validate private key d by signing message e and verifying we get the same signature\n",
    "            _, r2, s2, _ = ecdsa_sign_leaky(curv, e, computed_d, guessed_k)\n",
    "            done = (r==r2 and s==s2)\n",
    "        \n",
    "        if done:\n",
    "            return computed_d\n",
    "        \n",
    "    return None\n"
   ]
  },
  {
   "cell_type": "code",
   "execution_count": null,
   "metadata": {
    "scrolled": true
   },
   "outputs": [],
   "source": [
    "MAX_ATTEMPTS = 200  # Number of times to perform a leaky signing\n",
    "BRUTEFORCE_BITS = 8 # Number of bits to bruteforce\n",
    "GOD_MODE = True     # True => speed things up by using knowledge of the key, False => what needs to be done if you don't know the key\n",
    "\n",
    "for attempt in range(MAX_ATTEMPTS):    \n",
    "    print(\"\\n\\nAttempt\", attempt)\n",
    "\n",
    "    # Perform leaky ECDSA signature\n",
    "    e, d, pd = gen_msg_and_key(curv)\n",
    "    timeleak, r, s, k = ecdsa_sign_leaky(curv, e, d)\n",
    "    verifies = ecdsa_verify(curv, r, s, e, pd)\n",
    "    assert(verifies)\n",
    "\n",
    "    # Create trace and do SPA\n",
    "    trace, _ = timeleak_to_trace(timeleak, SAMPLES_PER_LOOP, SCOPE_NOISE)\n",
    "    closest, guessed_k_base, difftime, cutoff = simple_power_analysis(trace)\n",
    "    print(\"Guessed k:\", bin(guessed_k_base))\n",
    "\n",
    "    if GOD_MODE:\n",
    "        print(\"Actual k: \", bin(k))\n",
    "        \n",
    "        # Check number of bit errors, skip bruteforce if there are too many\n",
    "        biterrors = bin(guessed_k_base ^ k).count('1')\n",
    "        print(\"Bit errors:\", biterrors)\n",
    "        if biterrors > BRUTEFORCE_BITS:\n",
    "            print(\"We won't bruteforce our way out of is. Let's just try a new one.\")\n",
    "            continue\n",
    "        \n",
    "        # Provide actual private key d to bruteforce\n",
    "        key = bruteforce(BRUTEFORCE_BITS, guessed_k_base, closest, curv, r, s, e, pd, d)\n",
    "    else:\n",
    "        # Don't know private key d\n",
    "        key = bruteforce(BRUTEFORCE_BITS, guessed_k_base, closest, curv, r, s, e, pd, None) \n",
    "    \n",
    "    # Done?\n",
    "    if key:\n",
    "        print(\"Yeash! Key found:\", bin(key))\n",
    "        break\n",
    "    else:\n",
    "        print(\"No key for you.\")"
   ]
  }
 ],
 "metadata": {
  "kernelspec": {
   "display_name": "Python 3",
   "language": "python",
   "name": "python3"
  },
  "language_info": {
   "codemirror_mode": {
    "name": "ipython",
    "version": 3
   },
   "file_extension": ".py",
   "mimetype": "text/x-python",
   "name": "python",
   "nbconvert_exporter": "python",
   "pygments_lexer": "ipython3",
   "version": "3.6.7"
  },
  "toc": {
   "base_numbering": 1,
   "nav_menu": {},
   "number_sections": true,
   "sideBar": true,
   "skip_h1_title": false,
   "title_cell": "Table of Contents",
   "title_sidebar": "Contents",
   "toc_cell": false,
   "toc_position": {},
   "toc_section_display": true,
   "toc_window_display": false
  }
 },
 "nbformat": 4,
 "nbformat_minor": 2
}
