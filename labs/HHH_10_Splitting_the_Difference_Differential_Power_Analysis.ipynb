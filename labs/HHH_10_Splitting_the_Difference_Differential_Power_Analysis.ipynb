{
 "cells": [
  {
   "cell_type": "markdown",
   "metadata": {},
   "source": [
    "# Chapter 10: Splitting the Difference: Differential Power Analysis\n",
    "\n",
    "This is the companion notebook to Chapter 10 of the Hardware Hacking Handbook by Jasper van Woudenberg and Colin O'Flynn. The headings in this notebook follow the headings in the book.\n",
    "\n",
    "© 2021. This work is licensed under a [CC BY-SA 4.0 license](https://creativecommons.org/licenses/by-sa/4.0/). \n",
    "\n",
    "## A DPA Attack in Python\n",
    "### Simulating a Single Power Measurement"
   ]
  },
  {
   "cell_type": "code",
   "execution_count": null,
   "metadata": {},
   "outputs": [],
   "source": [
    "import numpy as np\n",
    "import random\n",
    "import pylab as py\n",
    "\n",
    "# Make this lab repeatable\n",
    "random.seed(0) \n",
    "np.random.seed(0)\n",
    "\n",
    "#Generate a random lookup table as sbox\n",
    "lookup = [x for x in range(0,256)]\n",
    "random.shuffle(lookup)\n",
    "\n",
    "# Create a simulated power trace, based on data in (din)\n",
    "def measure_power(din):\n",
    "    #secret byte\n",
    "    skey = 0b10010111 # 0x97 \n",
    "    \n",
    "    #Calculate result\n",
    "    res = lookup[din ^ skey]\n",
    "    \n",
    "    #Generate some arbitrary random data, not necessarily around zero\n",
    "    b = 148\n",
    "    a = 154    \n",
    "    basetrace = (b - a) * np.random.random_sample(50) + a\n",
    "    \n",
    "    #Determine number of 1's in result (Hamming Weight), create appropriately sized spike\n",
    "    time_of_leakage = 35\n",
    "    basetrace[time_of_leakage] += bin(res).count('1') - 4 # On average, HW=4, so we minus it out\n",
    "        \n",
    "    return basetrace"
   ]
  },
  {
   "cell_type": "markdown",
   "metadata": {},
   "source": [
    "### The Batch Measurement"
   ]
  },
  {
   "cell_type": "code",
   "execution_count": null,
   "metadata": {},
   "outputs": [],
   "source": [
    "# Create a number of simulated traces and input data\n",
    "def gen_traces(number_traces):    \n",
    "    traces = np.array([None] * number_traces)\n",
    "    input_data = np.random.randint(0, 256, number_traces)\n",
    "\n",
    "    for d in range(0, number_traces):\n",
    "        traces[d] = measure_power(input_data[d])\n",
    "    return (input_data, traces)"
   ]
  },
  {
   "cell_type": "code",
   "execution_count": null,
   "metadata": {},
   "outputs": [],
   "source": [
    "(input_data, traces) = gen_traces(1000)"
   ]
  },
  {
   "cell_type": "markdown",
   "metadata": {},
   "source": [
    "### Various trace pics from the chapter"
   ]
  },
  {
   "cell_type": "code",
   "execution_count": null,
   "metadata": {},
   "outputs": [],
   "source": [
    "# Helper for plotting\n",
    "def trcplot(trace, title=\"\", xlabel=\"\", ylabel=\"\", label=\"\", axs=None):\n",
    "    if not axs:\n",
    "        fig, axs = py.subplots()\n",
    "    axs.set_title(title)\n",
    "    axs.set_xlabel(xlabel)\n",
    "    axs.set_ylabel(ylabel)\n",
    "    axs.plot(trace, label=label)"
   ]
  },
  {
   "cell_type": "code",
   "execution_count": null,
   "metadata": {},
   "outputs": [],
   "source": [
    "# Plot traces\n",
    "lines = 6\n",
    "fig, axs = py.subplots(lines)\n",
    "fig.suptitle(\"Traces\")\n",
    "for trace in range(lines):\n",
    "    # Get data and perform lookup; format it\n",
    "    data = input_data[trace]\n",
    "    datastr = hex(data)\n",
    "\n",
    "    # Plot it\n",
    "    curaxs = axs[trace]\n",
    "    trcplot(traces[trace], ylabel=datastr, axs=curaxs)\n",
    "    curaxs.set_xticks([])\n",
    "    curaxs.set_yticks([])\n",
    "py.savefig(\"fig/10_6.svg\", format=\"svg\")"
   ]
  },
  {
   "cell_type": "code",
   "execution_count": null,
   "metadata": {},
   "outputs": [],
   "source": [
    "trcplot(traces[0], \"Trace 0. Input=\"+hex(input_data[0]), \"Sample Number\", \"Power Measurement\")\n",
    "py.savefig(\"fig/10_9.svg\", format=\"svg\")"
   ]
  },
  {
   "cell_type": "code",
   "execution_count": null,
   "metadata": {},
   "outputs": [],
   "source": [
    "# Calculate difference of means on given input/traces for bit bitnum; also return grouping for each guess\n",
    "def dom(input_data, traces, bitnum):    \n",
    "    groups = [0] * 256\n",
    "    diff_vect = [0] * 256\n",
    "    traces = np.array(traces) # Convert to numpy so we can slice better below\n",
    "\n",
    "    # Group each trace based on each guess\n",
    "    for guess in range(0, 256):\n",
    "        # Vector: for each trace, apply lookup table\n",
    "        transformed = np.array([lookup[guess ^ p] for p in input_data])\n",
    "        # Vector: for each trace, 0 or 1\n",
    "        group = transformed >> bitnum & 1\n",
    "        # Save grouping\n",
    "        groups[guess] = group\n",
    "        \n",
    "        # Calculate means for group zero and one\n",
    "        mean_zero = np.mean(traces[group==0],axis=0)\n",
    "        mean_one  = np.mean(traces[group==1],axis=0)\n",
    "        \n",
    "        # Calc difference\n",
    "        diff_vect[guess] = mean_one - mean_zero\n",
    "        \n",
    "    return (diff_vect, groups)"
   ]
  },
  {
   "cell_type": "markdown",
   "metadata": {},
   "source": [
    "### The Difference Array (and some more pics)"
   ]
  },
  {
   "cell_type": "code",
   "execution_count": null,
   "metadata": {},
   "outputs": [],
   "source": [
    "# Do DPA\n",
    "(diff_vect,groups) = dom(input_data, traces, 0)"
   ]
  },
  {
   "cell_type": "code",
   "execution_count": null,
   "metadata": {},
   "outputs": [],
   "source": [
    "# Make a nice DoM plot for a particular guess\n",
    "def plot_dom_guess(input_data, traces, diff_vect, groups, guess, ylim=None):\n",
    "    lines = 3\n",
    "    fig, axs = py.subplots(lines+1,2)\n",
    "    fig.suptitle(\"Guess \" + hex(guess))\n",
    "    means = [None, None]\n",
    "\n",
    "    # For each group {0,1}\n",
    "    for group in range(2):\n",
    "        # Obtain traces and data for group\n",
    "        group_traces = traces[groups[guess]==group]\n",
    "        group_data = input_data[groups[guess]==group]\n",
    "        \n",
    "        # Plot traces\n",
    "        for trace in range(lines):\n",
    "            # Get data and perform lookup; format it\n",
    "            data = lookup[guess ^ group_data[trace]] \n",
    "            datastr = bin(data)[2:].zfill(8) \n",
    "            \n",
    "            # Plot it\n",
    "            curaxs = axs[trace,group]\n",
    "            trcplot(group_traces[trace], ylabel=datastr, axs=curaxs)\n",
    "            curaxs.set_xticks([])\n",
    "            curaxs.set_yticks([])\n",
    "\n",
    "        # Plot mean for group\n",
    "        axs[0,group].set_title(\"Group \" + str(group))\n",
    "        curaxs = axs[lines,group]\n",
    "        curaxs.set_xticks([])\n",
    "        curaxs.set_yticks([])\n",
    "        means[group] = np.mean(group_traces,axis=0)\n",
    "        trcplot(means[group], ylabel=\"mean \" + str(group), axs=curaxs)\n",
    "    py.savefig(\"fig/10_8x_{}_top.svg\".format(hex(guess)), format=\"svg\")\n",
    "        \n",
    "    # Plot difference of means\n",
    "    trcplot(diff_vect[guess], ylabel=\"Difference of Means\") \n",
    "    if ylim:\n",
    "        py.ylim(ylim)\n",
    "    py.savefig(\"fig/10_8x_{}_bottom.svg\".format(hex(guess)), format=\"svg\")\n",
    "    \n",
    "# Correct guess\n",
    "plot_dom_guess(input_data, traces, diff_vect, groups, 0x97)\n",
    "ylim = py.ylim() # Get y scale\n",
    "\n",
    "# Incorrect guess\n",
    "plot_dom_guess(input_data, traces, diff_vect, groups, 0xAB, ylim)"
   ]
  },
  {
   "cell_type": "code",
   "execution_count": null,
   "metadata": {},
   "outputs": [],
   "source": [
    "# Now calculate it with lots more traces  \n",
    "(input_dataB, tracesB) = gen_traces(100000)\n",
    "(diff_vectB,_) = dom(input_dataB, tracesB, 0)"
   ]
  },
  {
   "cell_type": "code",
   "execution_count": null,
   "metadata": {},
   "outputs": [],
   "source": [
    "# Plot DoM with 1000 traces  \n",
    "fig,axs=py.subplots(1,2)\n",
    "trcplot(diff_vect[0x97], \"Guess=0x97 (1000 traces)\", \"Sample Number\", \"Difference of Means\", axs=axs[0]) \n",
    "\n",
    "# Now plot it with lots more traces   \n",
    "trcplot(diff_vectB[0x97], \"Guess=0x97 (100000 traces)\", \"Sample Number\", axs=axs[1])\n",
    "axs[0].set_ylim(axs[1].get_ylim())\n",
    "\n",
    "py.savefig(\"fig/10_10.svg\", format=\"svg\")"
   ]
  },
  {
   "cell_type": "markdown",
   "metadata": {},
   "source": [
    "### A Complete Attack"
   ]
  },
  {
   "cell_type": "code",
   "execution_count": null,
   "metadata": {},
   "outputs": [],
   "source": [
    "# Return best guess for key given input data and traces, and specific bit number\n",
    "def best_guess(input_data, traces, bitnum):\n",
    "    # Calculate DoM for given bit and input\n",
    "    (diff_vect,groups) = dom(input_data, traces, bitnum)\n",
    "    \n",
    "    # Vector: For each of the 256 guesses the strongest peak in the DoM trace\n",
    "    guess_max = np.max(np.abs(diff_vect),axis=1)\n",
    "    \n",
    "    # Return guess for which the peak is the highest of all guesses\n",
    "    return np.argmax(guess_max)"
   ]
  },
  {
   "cell_type": "code",
   "execution_count": null,
   "metadata": {},
   "outputs": [],
   "source": [
    "for bitnum in range(8):\n",
    "    best_key = best_guess(input_data,traces,bitnum)\n",
    "    print(\"Best guess from bit %d: 0x%02x\"%(bitnum, best_key))"
   ]
  },
  {
   "cell_type": "markdown",
   "metadata": {},
   "source": [
    "## Attacking AES-128 using DPA"
   ]
  },
  {
   "cell_type": "code",
   "execution_count": null,
   "metadata": {},
   "outputs": [],
   "source": [
    "# The AES sbox\n",
    "sbox = (\n",
    "            0x63, 0x7C, 0x77, 0x7B, 0xF2, 0x6B, 0x6F, 0xC5, 0x30, 0x01, 0x67, 0x2B, 0xFE, 0xD7, 0xAB, 0x76,\n",
    "            0xCA, 0x82, 0xC9, 0x7D, 0xFA, 0x59, 0x47, 0xF0, 0xAD, 0xD4, 0xA2, 0xAF, 0x9C, 0xA4, 0x72, 0xC0,\n",
    "            0xB7, 0xFD, 0x93, 0x26, 0x36, 0x3F, 0xF7, 0xCC, 0x34, 0xA5, 0xE5, 0xF1, 0x71, 0xD8, 0x31, 0x15,\n",
    "            0x04, 0xC7, 0x23, 0xC3, 0x18, 0x96, 0x05, 0x9A, 0x07, 0x12, 0x80, 0xE2, 0xEB, 0x27, 0xB2, 0x75,\n",
    "            0x09, 0x83, 0x2C, 0x1A, 0x1B, 0x6E, 0x5A, 0xA0, 0x52, 0x3B, 0xD6, 0xB3, 0x29, 0xE3, 0x2F, 0x84,\n",
    "            0x53, 0xD1, 0x00, 0xED, 0x20, 0xFC, 0xB1, 0x5B, 0x6A, 0xCB, 0xBE, 0x39, 0x4A, 0x4C, 0x58, 0xCF,\n",
    "            0xD0, 0xEF, 0xAA, 0xFB, 0x43, 0x4D, 0x33, 0x85, 0x45, 0xF9, 0x02, 0x7F, 0x50, 0x3C, 0x9F, 0xA8,\n",
    "            0x51, 0xA3, 0x40, 0x8F, 0x92, 0x9D, 0x38, 0xF5, 0xBC, 0xB6, 0xDA, 0x21, 0x10, 0xFF, 0xF3, 0xD2,\n",
    "            0xCD, 0x0C, 0x13, 0xEC, 0x5F, 0x97, 0x44, 0x17, 0xC4, 0xA7, 0x7E, 0x3D, 0x64, 0x5D, 0x19, 0x73,\n",
    "            0x60, 0x81, 0x4F, 0xDC, 0x22, 0x2A, 0x90, 0x88, 0x46, 0xEE, 0xB8, 0x14, 0xDE, 0x5E, 0x0B, 0xDB,\n",
    "            0xE0, 0x32, 0x3A, 0x0A, 0x49, 0x06, 0x24, 0x5C, 0xC2, 0xD3, 0xAC, 0x62, 0x91, 0x95, 0xE4, 0x79,\n",
    "            0xE7, 0xC8, 0x37, 0x6D, 0x8D, 0xD5, 0x4E, 0xA9, 0x6C, 0x56, 0xF4, 0xEA, 0x65, 0x7A, 0xAE, 0x08,\n",
    "            0xBA, 0x78, 0x25, 0x2E, 0x1C, 0xA6, 0xB4, 0xC6, 0xE8, 0xDD, 0x74, 0x1F, 0x4B, 0xBD, 0x8B, 0x8A,\n",
    "            0x70, 0x3E, 0xB5, 0x66, 0x48, 0x03, 0xF6, 0x0E, 0x61, 0x35, 0x57, 0xB9, 0x86, 0xC1, 0x1D, 0x9E,\n",
    "            0xE1, 0xF8, 0x98, 0x11, 0x69, 0xD9, 0x8E, 0x94, 0x9B, 0x1E, 0x87, 0xE9, 0xCE, 0x55, 0x28, 0xDF,\n",
    "            0x8C, 0xA1, 0x89, 0x0D, 0xBF, 0xE6, 0x42, 0x68, 0x41, 0x99, 0x2D, 0x0F, 0xB0, 0x54, 0xBB, 0x16\n",
    "            )\n",
    "\n",
    "# We just replace the lookup table\n",
    "lookup = sbox"
   ]
  },
  {
   "cell_type": "code",
   "execution_count": null,
   "metadata": {},
   "outputs": [],
   "source": [
    "# Create AES traces and re-guess key\n",
    "(input_data, traces) = gen_traces(1000)\n",
    "for bitnum in range(8):\n",
    "    best_key = best_guess(input_data,traces,bitnum)\n",
    "    print(\"Best guess from bit %d: 0x%02x\"%(bitnum, best_key))"
   ]
  },
  {
   "cell_type": "code",
   "execution_count": null,
   "metadata": {},
   "outputs": [],
   "source": [
    "# Get diff_vect for all guesses\n",
    "(diff_vect,groups) = dom(input_data, traces, bitnum)\n",
    "\n",
    "# Plot 3 guesses\n",
    "fig, axs=py.subplots()\n",
    "for guess in range(0x96,0x99):\n",
    "    trcplot(diff_vect[guess], \"AES-128 DPA\", \"Sample Number\", \"Difference of Means\", label=hex(guess), axs=axs)\n",
    "axs.legend()\n",
    "py.savefig(\"fig/10_12.svg\", format=\"svg\")"
   ]
  },
  {
   "cell_type": "markdown",
   "metadata": {},
   "source": [
    "## Correlation Power Analysis (CPA) Attack \n",
    "### Calculating the Data to Correlate"
   ]
  },
  {
   "cell_type": "code",
   "execution_count": null,
   "metadata": {},
   "outputs": [],
   "source": [
    "# Generate a handful of traces for CPA\n",
    "D = 100\n",
    "(input_data_AES, traces_AES) = gen_traces(D)\n",
    "T = len(traces_AES[0])"
   ]
  },
  {
   "cell_type": "code",
   "execution_count": null,
   "metadata": {},
   "outputs": [],
   "source": [
    "# Print table t\n",
    "for d in [0,1,2,D-1]:\n",
    "    print(\"0x%02x\" % input_data_AES[d], end=\"\\t\")\n",
    "    for j in [0, 1, T-1]:\n",
    "        print(\"%.2f\" % traces_AES[d][j], end=\"\\t\")\n",
    "    print()"
   ]
  },
  {
   "cell_type": "markdown",
   "metadata": {},
   "source": [
    "### Bring in the functions"
   ]
  },
  {
   "cell_type": "code",
   "execution_count": null,
   "metadata": {},
   "outputs": [],
   "source": [
    "# Cache hamming weights for each byte value\n",
    "HW = [bin(n).count(\"1\") for n in range(0,256)]\n",
    "\n",
    "# Return hamming weight of sbox[pt xor keyguess]\n",
    "def intermediate(pt, keyguess):\n",
    "    return HW[sbox[pt ^ keyguess]]"
   ]
  },
  {
   "cell_type": "markdown",
   "metadata": {},
   "source": [
    "### Calculating the Correlation"
   ]
  },
  {
   "cell_type": "code",
   "execution_count": null,
   "metadata": {},
   "outputs": [],
   "source": [
    "# Print table p\n",
    "I = 256\n",
    "for d in [0,1,2,D-1]:\n",
    "    print(\"0x%02x\" % input_data_AES[d], end=\"\\t\")\n",
    "    for i in [0, 1, 2, I-1]:\n",
    "        print(intermediate(input_data_AES[d], i), end=\"\\t\")\n",
    "    print()"
   ]
  },
  {
   "cell_type": "markdown",
   "metadata": {},
   "source": [
    "### Attacking AES-128 using CPA"
   ]
  },
  {
   "cell_type": "code",
   "execution_count": null,
   "metadata": {},
   "outputs": [],
   "source": [
    "# Do CPA attack, returning \n",
    "def cpa(input_data, traces):\n",
    "    cpaoutput = [0]*256\n",
    "    maxcpa = [0]*256\n",
    "    number_traces = len(traces)\n",
    "    numpoint = len(traces[0])\n",
    "\n",
    "    for guess in range(0, 256):\n",
    "        #Initialize arrays & variables to zero\n",
    "        sumnum = np.zeros(numpoint)\n",
    "        sumden1 = np.zeros(numpoint)\n",
    "        sumden2 = np.zeros(numpoint)\n",
    "        hyp = np.zeros(number_traces)\n",
    "\n",
    "        # Calculate all hypothetical intermediates for this guess\n",
    "        for tnum in range(0, number_traces):\n",
    "            hyp[tnum] = intermediate(input_data[tnum], guess)\n",
    "\n",
    "        # Calculate means for trace and hypothesis\n",
    "        meanh = np.mean(hyp, dtype=np.float64) # h_i hat\n",
    "        meant = np.mean(traces)                # t_j hat\n",
    "\n",
    "        # For each trace, update sums\n",
    "        for tnum in range(number_traces):\n",
    "            hdiff = hyp[tnum] - meanh     # h_d,i - h_i hat\n",
    "            tdiff = traces[tnum] - meant  # t_d,j - t_j hat\n",
    "\n",
    "            sumnum  = sumnum  + hdiff * tdiff # cross-multiply\n",
    "            sumden1 = sumden1 + hdiff * hdiff # square hdiff\n",
    "            sumden2 = sumden2 + tdiff * tdiff # square tdiff\n",
    "\n",
    "        # Finalize correlation calculation\n",
    "        cpaoutput[guess] = sumnum / np.sqrt(sumden1 * sumden2)\n",
    "\n",
    "        # Find highest (absolute) correlation peak in correlation trace for this key guess\n",
    "        maxcpa[guess] = max(abs(cpaoutput[guess]))\n",
    "    return (cpaoutput,maxcpa)"
   ]
  },
  {
   "cell_type": "code",
   "execution_count": null,
   "metadata": {},
   "outputs": [],
   "source": [
    "# Do CPA\n",
    "(cpaoutput,maxcpa) = cpa(input_data_AES, traces_AES)\n",
    "print(\"Most likely key = 0x%02x\" % np.argmax(maxcpa))"
   ]
  },
  {
   "cell_type": "code",
   "execution_count": null,
   "metadata": {},
   "outputs": [],
   "source": [
    "# Print table r\n",
    "for i in [0, 1, 0x97, I-1]:\n",
    "    for j in [0, 35, T-1]:\n",
    "        print(\"%.2f\" % cpaoutput[i][j], end=\"\\t\")\n",
    "    print()"
   ]
  },
  {
   "cell_type": "markdown",
   "metadata": {},
   "source": [
    "### Correlation Calculation and analysis"
   ]
  },
  {
   "cell_type": "code",
   "execution_count": null,
   "metadata": {},
   "outputs": [],
   "source": [
    "# Plot correlation traces\n",
    "fig,axs = py.subplots()\n",
    "for guess in range(0x96, 0x99):\n",
    "     trcplot(cpaoutput[guess], \"AES-128 CPA\", \"Sample Number\", \"Correlation\", label=hex(guess), axs=axs)\n",
    "py.legend()\n",
    "py.savefig(\"fig/10_13.svg\", format=\"svg\")"
   ]
  }
 ],
 "metadata": {
  "kernelspec": {
   "display_name": "Python 3 (ipykernel)",
   "language": "python",
   "name": "python3"
  },
  "language_info": {
   "codemirror_mode": {
    "name": "ipython",
    "version": 3
   },
   "file_extension": ".py",
   "mimetype": "text/x-python",
   "name": "python",
   "nbconvert_exporter": "python",
   "pygments_lexer": "ipython3",
   "version": "3.8.10"
  },
  "toc": {
   "base_numbering": 1,
   "nav_menu": {},
   "number_sections": true,
   "sideBar": true,
   "skip_h1_title": false,
   "title_cell": "Table of Contents",
   "title_sidebar": "Contents",
   "toc_cell": false,
   "toc_position": {},
   "toc_section_display": true,
   "toc_window_display": false
  }
 },
 "nbformat": 4,
 "nbformat_minor": 2
}
