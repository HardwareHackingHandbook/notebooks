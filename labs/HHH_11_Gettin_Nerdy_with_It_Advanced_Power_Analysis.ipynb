{
 "cells": [
  {
   "cell_type": "markdown",
   "metadata": {},
   "source": [
    "# Chapter 11: Gettin' Nerdy with It: Advanced Power Analysis\n",
    "\n",
    "This is the companion notebook to Chapter 11 of the Hardware Hacking Handbook by Jasper van Woudenberg and Colin O'Flynn. The headings in this notebook follow the headings in the book.\n",
    "\n",
    "© 2021. This work is licensed under a [CC BY-SA 4.0 license](https://creativecommons.org/licenses/by-sa/4.0/). \n",
    "\n",
    "## Resynchronization"
   ]
  },
  {
   "cell_type": "code",
   "execution_count": null,
   "metadata": {},
   "outputs": [],
   "source": [
    "import numpy as np\n",
    "import pylab as py\n",
    "\n",
    "# Helper for plotting\n",
    "def trcplot(trace, title=\"\", xlabel=\"\", ylabel=\"\", label=\"\", axs=None):\n",
    "    if not axs:\n",
    "        fig, axs = py.subplots()\n",
    "    axs.set_title(title)\n",
    "    axs.set_xlabel(xlabel)\n",
    "    axs.set_ylabel(ylabel)\n",
    "    axs.plot(trace, label=label)"
   ]
  },
  {
   "cell_type": "code",
   "execution_count": null,
   "metadata": {},
   "outputs": [],
   "source": [
    "# Calculate the Sum of Abs Differences between \n",
    "# - the reference vector ref_data, \n",
    "# - shifted over all indices of inp_data \n",
    "# - indicated in window\n",
    "def findSAD(inp_data, ref_data, window):        \n",
    "    # Initialize emtpy array\n",
    "    sadarray = np.empty(window[1]-window[0])\n",
    "    \n",
    "    # For every index in the window\n",
    "    for ptstart in range(window[0], window[1]):\n",
    "        # Calculate the Sum of Abs differences between ref_data and inp_data\n",
    "        sadarray[ptstart-window[0]] = np.sum(\n",
    "            np.abs(inp_data[ptstart:(ptstart+len(ref_data))]-ref_data)\n",
    "         )\n",
    "        \n",
    "    # Result!\n",
    "    return sadarray"
   ]
  },
  {
   "cell_type": "code",
   "execution_count": null,
   "metadata": {},
   "outputs": [],
   "source": [
    "REF_TRACE = 0               # Trace index of reference trace\n",
    "REF_PATTERN = range(25,35)  # Location of the reference pattern\n",
    "WINDOW = (15, 35)           # Set the window to sweep over\n",
    "    \n",
    "# Load four traces that aren't synchronized\n",
    "testdata = np.load('traces/unsync_traces.npy')\n",
    "# The output traces will be written here\n",
    "newtraces = np.zeros(np.shape(testdata))\n",
    "# Select reference points from one trace\n",
    "refpts = testdata[REF_TRACE][REF_PATTERN]\n",
    "\n",
    "# Find location of minimum in reference trace\n",
    "sad = findSAD(testdata[REF_TRACE], refpts, WINDOW)\n",
    "refminloc = np.argmin(sad)\n",
    "\n",
    "# Sweep over each trace\n",
    "for i in range(0, 4):\n",
    "    # Calculate SAD over window\n",
    "    sad = findSAD(testdata[i], refpts, WINDOW)    \n",
    "    # Find offset which minimizes the SAD\n",
    "    minloc = np.argmin(sad)    \n",
    "    # Shift trace as needed\n",
    "    shift = minloc-refminloc\n",
    "    # Pad where needed\n",
    "    if shift < 0:\n",
    "        newtraces[i] = np.append(np.zeros(-shift), testdata[i][:shift])\n",
    "    else:\n",
    "        newtraces[i] = np.append( testdata[i][shift:], np.zeros(shift))"
   ]
  },
  {
   "cell_type": "code",
   "execution_count": null,
   "metadata": {},
   "outputs": [],
   "source": [
    "# Show the results!\n",
    "fig, axs = py.subplots(2)\n",
    "for i in range(1,len(testdata)):\n",
    "    trcplot(testdata[i], \"Misaligned\", axs=axs[0])\n",
    "    trcplot(newtraces[i], \"Aligned\", axs=axs[1])\n",
    "py.savefig(\"fig/11_align.svg\", format=\"svg\")"
   ]
  }
 ],
 "metadata": {
  "kernelspec": {
   "display_name": "Python 3 (ipykernel)",
   "language": "python",
   "name": "python3"
  },
  "language_info": {
   "codemirror_mode": {
    "name": "ipython",
    "version": 3
   },
   "file_extension": ".py",
   "mimetype": "text/x-python",
   "name": "python",
   "nbconvert_exporter": "python",
   "pygments_lexer": "ipython3",
   "version": "3.8.10"
  },
  "toc": {
   "base_numbering": 1,
   "nav_menu": {},
   "number_sections": true,
   "sideBar": true,
   "skip_h1_title": false,
   "title_cell": "Table of Contents",
   "title_sidebar": "Contents",
   "toc_cell": false,
   "toc_position": {},
   "toc_section_display": true,
   "toc_window_display": false
  }
 },
 "nbformat": 4,
 "nbformat_minor": 2
}
