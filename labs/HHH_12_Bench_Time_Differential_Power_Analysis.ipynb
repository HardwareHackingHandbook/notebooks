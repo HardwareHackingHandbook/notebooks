{
 "cells": [
  {
   "cell_type": "markdown",
   "metadata": {},
   "source": [
    "# Chapter 12: Bench time: Differential Power Analysis"
   ]
  },
  {
   "cell_type": "markdown",
   "metadata": {},
   "source": [
    "This notebook is the companion to Chapter 12 of The Hardware Hacking Handbook by Jasper van Woudenberg and Colin O'Flynn.\n",
    "\n",
    "- If you'd like to use the pre-recorded traces, set `SCOPETYPE` to `FILE` and `PLATFORM` to `CWLITEXMEGA`. \n",
    "- If you'd like to use ChipWhisperer hardware, set `SCOPETYPE` to `OPENADC` and `PLATFORM` to `CWLITEXMEGA`.\n",
    "\n",
    "If you are using your own target hardware, the bootloader code can be found at http://localhost:8888/tree/hardware/victims/firmware/bootloader-aes256 when the VM is running.\n",
    "\n",
    "© 2021. This work is licensed under a [CC BY-SA 4.0 license](https://creativecommons.org/licenses/by-sa/4.0/). \n"
   ]
  },
  {
   "cell_type": "code",
   "execution_count": null,
   "metadata": {},
   "outputs": [],
   "source": [
    "SCOPETYPE = 'FILE'\n",
    "PLATFORM = 'CWLITEXMEGA'\n",
    "\n",
    "# Files were captured on CWLITEXMEGA\n",
    "if SCOPETYPE == 'FILE':\n",
    "    PLATFORM = 'CWLITEXMEGA'\n",
    "\n",
    "# Imports needed for this notebook\n",
    "from bokeh.io import output_notebook\n",
    "from bokeh.palettes import Category20\n",
    "from bokeh.plotting import figure, show\n",
    "from Crypto.Cipher import AES\n",
    "from tqdm import tnrange,tqdm\n",
    "\n",
    "import chipwhisperer.analyzer as cwa\n",
    "import chipwhisperer as cw\n",
    "import numpy as np\n",
    "import random\n",
    "import shutil\n",
    "import time\n"
   ]
  },
  {
   "cell_type": "code",
   "execution_count": null,
   "metadata": {},
   "outputs": [],
   "source": [
    "# Basic RSA encryption/decryption\n",
    "def encrypt(private_key, plaintext):\n",
    "    d, n = private_key\n",
    "    ciphertext = [(m ** d) % n for m in plaintext]\n",
    "    return ciphertext\n",
    "\n",
    "def decrypt(public_key, ciphertext):\n",
    "    e, n = public_key\n",
    "    plaintext = [(c ** e) % n for c in ciphertext]\n",
    "    return plaintext\n",
    "    \n",
    "\n",
    "# Our RSA-16 private and public key\n",
    "p = 211\n",
    "q = 223\n",
    "\n",
    "public = (36077, 47053)\n",
    "private = (29693, 47053)"
   ]
  },
  {
   "cell_type": "markdown",
   "metadata": {},
   "source": [
    "## Obtaining and building the bootloader code"
   ]
  },
  {
   "cell_type": "markdown",
   "metadata": {},
   "source": [
    "For this lab, we'll be using the `bootloader-aes256` project, which we'll build as follows:"
   ]
  },
  {
   "cell_type": "code",
   "execution_count": null,
   "metadata": {},
   "outputs": [],
   "source": [
    "%%bash -s \"$PLATFORM\" \n",
    "cd ../hardware/victims/firmware/bootloader-aes256\n",
    "make PLATFORM=$1 CRYPTO_TARGET=NONE"
   ]
  },
  {
   "cell_type": "markdown",
   "metadata": {},
   "source": [
    "Next, we'll flash the code onto the target."
   ]
  },
  {
   "cell_type": "code",
   "execution_count": null,
   "metadata": {},
   "outputs": [],
   "source": [
    "if SCOPETYPE == 'OPENADC':\n",
    "    %run \"Helper_Scripts/Setup_Generic.ipynb\"\n",
    "\n",
    "    fw_path = \"../hardware/victims/firmware/bootloader-aes256/bootloader-aes256-{}.hex\".format(PLATFORM)\n",
    "    cw.program_target(scope, prog, fw_path)"
   ]
  },
  {
   "cell_type": "markdown",
   "metadata": {},
   "source": [
    "## Running the target and capturing traces"
   ]
  },
  {
   "cell_type": "markdown",
   "metadata": {},
   "source": [
    "### Calculating the CRC\n",
    "Some CRC code from pycrc:"
   ]
  },
  {
   "cell_type": "code",
   "execution_count": null,
   "metadata": {},
   "outputs": [],
   "source": [
    "# Class Crc\n",
    "#############################################################\n",
    "# These CRC routines are copy-pasted from pycrc, which are:\n",
    "# Copyright (c) 2006-2013 Thomas Pircher <tehpeh@gmx.net>\n",
    "#\n",
    "class Crc(object):\n",
    "    \"\"\"\n",
    "    A base class for CRC routines.\n",
    "    \"\"\"\n",
    "\n",
    "    def __init__(self, width, poly):\n",
    "        \"\"\"The Crc constructor.\n",
    "\n",
    "        The parameters are as follows:\n",
    "            width\n",
    "            poly\n",
    "            reflect_in\n",
    "            xor_in\n",
    "            reflect_out\n",
    "            xor_out\n",
    "        \"\"\"\n",
    "        self.Width = width\n",
    "        self.Poly = poly\n",
    "\n",
    "\n",
    "        self.MSB_Mask = 0x1 << (self.Width - 1)\n",
    "        self.Mask = ((self.MSB_Mask - 1) << 1) | 1\n",
    "\n",
    "        self.XorIn = 0x0000\n",
    "        self.XorOut = 0x0000\n",
    "\n",
    "        self.DirectInit = self.XorIn\n",
    "        self.NonDirectInit = self.__get_nondirect_init(self.XorIn)\n",
    "        if self.Width < 8:\n",
    "            self.CrcShift = 8 - self.Width\n",
    "        else:\n",
    "            self.CrcShift = 0\n",
    "\n",
    "    def __get_nondirect_init(self, init):\n",
    "        \"\"\"\n",
    "        return the non-direct init if the direct algorithm has been selected.\n",
    "        \"\"\"\n",
    "        crc = init\n",
    "        for i in range(self.Width):\n",
    "            bit = crc & 0x01\n",
    "            if bit:\n",
    "                crc ^= self.Poly\n",
    "            crc >>= 1\n",
    "            if bit:\n",
    "                crc |= self.MSB_Mask\n",
    "        return crc & self.Mask\n",
    "\n",
    "\n",
    "    def bit_by_bit(self, in_data):\n",
    "        \"\"\"\n",
    "        Classic simple and slow CRC implementation.  This function iterates bit\n",
    "        by bit over the augmented input message and returns the calculated CRC\n",
    "        value at the end.\n",
    "        \"\"\"\n",
    "        # If the input data is a string, convert to bytes.\n",
    "        if isinstance(in_data, str):\n",
    "            in_data = [ord(c) for c in in_data]\n",
    "\n",
    "        register = self.NonDirectInit\n",
    "        for octet in in_data:\n",
    "            for i in range(8):\n",
    "                topbit = register & self.MSB_Mask\n",
    "                register = ((register << 1) & self.Mask) | ((octet >> (7 - i)) & 0x01)\n",
    "                if topbit:\n",
    "                    register ^= self.Poly\n",
    "\n",
    "        for i in range(self.Width):\n",
    "            topbit = register & self.MSB_Mask\n",
    "            register = ((register << 1) & self.Mask)\n",
    "            if topbit:\n",
    "                register ^= self.Poly\n",
    "\n",
    "        return register ^ self.XorOut\n",
    "    \n",
    "bl_crc = Crc(width = 16, poly=0x1021)"
   ]
  },
  {
   "cell_type": "markdown",
   "metadata": {},
   "source": [
    "### Communicating with the Bootloader"
   ]
  },
  {
   "cell_type": "code",
   "execution_count": null,
   "metadata": {},
   "outputs": [],
   "source": [
    "# Synchronize with the target\n",
    "def target_sync(loud=False):\n",
    "    if SCOPETYPE == 'FILE':\n",
    "        return  #Nop\n",
    "    \n",
    "    okay = 0\n",
    "    reset_target(scope)\n",
    "\n",
    "    # Loop until we get a correct response\n",
    "    while not okay:\n",
    "        target.write('\\0xxxxxxxxxxxxxxxxxx')\n",
    "        time.sleep(0.05)\n",
    "        response = target.read()\n",
    "        if response:\n",
    "            if loud:\n",
    "                print(\"Target said: %s\" % response.encode(\"utf-8\").hex())\n",
    "            if ord(response[0]) == 0xA1:\n",
    "                okay = 1\n",
    "                \n",
    "target_sync(True) # True => print target responses"
   ]
  },
  {
   "cell_type": "code",
   "execution_count": null,
   "metadata": {},
   "outputs": [],
   "source": [
    "ktp = cw.ktp.Basic() # Random message/key generation\n",
    "\n",
    "# Return a random key/message tuple\n",
    "def random_message():\n",
    "    return ktp.next()\n",
    "    \n",
    "# Wrap the text in a message buffer for target\n",
    "def prep_message(text):\n",
    "    message = [0x00] # Leading 0\n",
    "    \n",
    "    # Add text\n",
    "    message.extend(text) \n",
    "\n",
    "    # Add CRC\n",
    "    crc = bl_crc.bit_by_bit(text) \n",
    "    message.append(crc >> 8)\n",
    "    message.append(crc & 0xFF)\n",
    "    \n",
    "    return message"
   ]
  },
  {
   "cell_type": "code",
   "execution_count": null,
   "metadata": {},
   "outputs": [],
   "source": [
    "if SCOPETYPE != 'FILE':\n",
    "    # clear serial buffer\n",
    "    target.read()\n",
    "\n",
    "    # Send a random message\n",
    "    key, text = random_message()\n",
    "    target.write(prep_message(text))\n",
    "    time.sleep(0.1)\n",
    "\n",
    "    # Check for correct response (A4)\n",
    "    response = target.read()\n",
    "    print(\"Response: {:02X}\".format(ord(response[0])))"
   ]
  },
  {
   "cell_type": "markdown",
   "metadata": {},
   "source": [
    "### Capturing Traces"
   ]
  },
  {
   "cell_type": "code",
   "execution_count": null,
   "metadata": {},
   "outputs": [],
   "source": [
    "# Capture Traces; or load from file, depending on scopetype \n",
    "#\n",
    "# Reset = indicates whether to reset the target for every trace\n",
    "# msg_gen = input text and key generator\n",
    "# returns a new project \n",
    "def capture(num_traces, name, reset=False, msg_gen=random_message, export=False): \n",
    "    projname = \"projects/\" + name\n",
    "    zipname = projname + \".zip\"\n",
    "    if SCOPETYPE == 'FILE':\n",
    "        return cw.import_project(zipname, overwrite=True)\n",
    "    \n",
    "    # Create new project\n",
    "    try:\n",
    "        shutil.rmtree(projname + \"_data\") # Delete stale data from previous runs\n",
    "    except IOError:\n",
    "        # Ignore on rmtree error\n",
    "        True\n",
    "    \n",
    "    project = cw.create_project(projname, overwrite=True)\n",
    "\n",
    "    # Loop over all traces\n",
    "    for i in tnrange(num_traces, desc='Capturing traces'):\n",
    "        if reset:\n",
    "            target_sync(False)\n",
    "\n",
    "        # Create input data\n",
    "        key, text = msg_gen()\n",
    "        message = prep_message(text)\n",
    "        \n",
    "        # clear serial buffer\n",
    "        target.read()\n",
    "\n",
    "        # Get scope ready and send message\n",
    "        scope.arm()\n",
    "        target.write(message)\n",
    "        ret = scope.capture()\n",
    "        \n",
    "        # Check results\n",
    "        if ret:\n",
    "            print('Timeout happened during acquisition')\n",
    "        response = target.read()\n",
    "        if ord(response[0]) != 0xA4:\n",
    "            # Bad response, just skip\n",
    "            print(\"Bad response: {:02X}\".format(ord(response[0])))\n",
    "            continue\n",
    "\n",
    "        # Add trace to project\n",
    "        project.traces.append(cw.Trace(scope.get_last_trace(), text, \"\", key))\n",
    "\n",
    "    project.save()\n",
    "    \n",
    "    if export:\n",
    "        project.export(zipname)\n",
    "    return project"
   ]
  },
  {
   "cell_type": "code",
   "execution_count": null,
   "metadata": {},
   "outputs": [],
   "source": [
    "# Config scope and capture overview trace\n",
    "if SCOPETYPE != 'FILE':\n",
    "    scope.adc.samples = 24400\n",
    "    scope.clock.adc_src = \"clkgen_x1\" # Slower sampling to get more time\n",
    "    scope.adc.basic_mode = \"rising_edge\"\n",
    "overview = capture(3, \"aeskey_overview\")"
   ]
  },
  {
   "cell_type": "code",
   "execution_count": null,
   "metadata": {
    "scrolled": true
   },
   "outputs": [],
   "source": [
    "from bokeh.io import export_svgs\n",
    "\n",
    "# Plot 3 traces from the given project, zoom into x_range\n",
    "def plot3(project, x_range=None, svgfile=None):\n",
    "    output_notebook()\n",
    "    p = figure(x_range=x_range)\n",
    "\n",
    "    xrange = range(len(project.traces[0].wave))\n",
    "    p.line(xrange, project.traces[0].wave, line_color=\"red\")\n",
    "    p.line(xrange, project.traces[1].wave, line_color=\"blue\")\n",
    "    p.line(xrange, project.traces[2].wave, line_color=\"green\")\n",
    "    show(p)\n",
    "    \n",
    "    if svgfile:\n",
    "        p.output_backend = \"svg\"\n",
    "        export_svgs(p, filename=f\"fig/12_{svgfile}\")\n",
    "    \n",
    "plot3(overview, [0,24400], \"4.svg\")\n",
    "\n"
   ]
  },
  {
   "cell_type": "markdown",
   "metadata": {},
   "source": [
    "### Capturing detailed traces"
   ]
  },
  {
   "cell_type": "code",
   "execution_count": null,
   "metadata": {},
   "outputs": [],
   "source": [
    "# Setup scope. \n",
    "if SCOPETYPE != 'FILE':\n",
    "    scope.adc.samples = 24400\n",
    "    scope.clock.adc_src = \"clkgen_x4\" # Faster sampling\n",
    "    scope.adc.basic_mode = \"rising_edge\"\n",
    "project = capture(200, \"aeskey_r14r13\")\n",
    "plot3(project)\n",
    "\n",
    "# We \"guess\" this leaks\n",
    "leak_model = cwa.leakage_models.inverse_sbox_output \n",
    "\n",
    "# Perform CPA analysis\n",
    "attack = cwa.cpa(project, leak_model) "
   ]
  },
  {
   "cell_type": "markdown",
   "metadata": {},
   "source": [
    "## Analysis\n",
    "### 14th Round Key\n",
    "\n",
    "Set `attack.point_range` to the range of samples where you think round 14 is executed."
   ]
  },
  {
   "cell_type": "code",
   "execution_count": null,
   "metadata": {},
   "outputs": [],
   "source": [
    "# Run attack on round 14 range\n",
    "cb = cwa.get_jupyter_callback(attack)\n",
    "if PLATFORM == \"CWLITEARM\" or PLATFORM == \"CW308_STM32F3\":\n",
    "    attack.point_range = decrypt(public, [4792, 39132])\n",
    "elif PLATFORM == \"CWLITEXMEGA\" or PLATFORM == \"CW303\":\n",
    "    attack.point_range = decrypt(public, [8492, 21014])\n",
    "attack_results = attack.run(cb)"
   ]
  },
  {
   "cell_type": "code",
   "execution_count": null,
   "metadata": {
    "scrolled": true
   },
   "outputs": [],
   "source": [
    "key = decrypt(public, [4782, 41021, 41021, 34848, 40659, 46642, 23307, 21303, 34180, 29318, 38236, 36358, 5628, 8565, 10190, 44112]\n",
    ")\n",
    "\n",
    "# Recover round 14 key\n",
    "rec_key = []\n",
    "for bnum in attack_results.find_maximums():\n",
    "    rec_key.append(bnum[0][0])\n",
    "    print(\"Best Guess = 0x{:02X}, Correlation = {}\".format(bnum[0][0], bnum[0][2]))\n",
    "\n",
    "# key correct?\n",
    "if rec_key == key:\n",
    "    print(\"Correct k14!\")\n",
    "else:\n",
    "    print(\"Go fix k14 first!\")"
   ]
  },
  {
   "cell_type": "markdown",
   "metadata": {},
   "source": [
    "### 13th Round Key"
   ]
  },
  {
   "cell_type": "markdown",
   "metadata": {},
   "source": [
    "#### Resyncing Traces\n",
    "\n",
    "Set `k13range` to the range you think the alignment should be done one, and `max_shift` to the max amount of misalignment to fix."
   ]
  },
  {
   "cell_type": "code",
   "execution_count": null,
   "metadata": {},
   "outputs": [],
   "source": [
    "if PLATFORM == \"CWLITEXMEGA\" or PLATFORM == \"CW303\":\n",
    "    # Select range for round 13\n",
    "    k13range = decrypt(public,[46957, 16007])\n",
    "    \n",
    "    # Plot unsynchronized traces\n",
    "    plot3(project, (k13range[0]+2000,k13range[0]+3000), \"6_left.svg\")\n",
    "    \n",
    "    # Preprocess traces with SA over range\n",
    "    resync_traces = cwa.preprocessing.ResyncSAD(project)\n",
    "    resync_traces.enabled = True\n",
    "    resync_traces.ref_trace = 0\n",
    "    resync_traces.target_window = (k13range[0], k13range[1])\n",
    "    resync_traces.max_shift = decrypt(public,[40659])[0]\n",
    "    projsync = resync_traces.preprocess()\n",
    "    attack.change_project(projsync)\n",
    "    \n",
    "    # Plot synchronized traces\n",
    "    plot3(projsync, (k13range[0]+2000,k13range[0]+3000), \"6_right.svg\")"
   ]
  },
  {
   "cell_type": "markdown",
   "metadata": {},
   "source": [
    "#### Leakage model"
   ]
  },
  {
   "cell_type": "code",
   "execution_count": null,
   "metadata": {},
   "outputs": [],
   "source": [
    "# This class implements a AES256 round 13 leakage model \n",
    "class AES256_Round13_Model(cwa.AESLeakageHelper):\n",
    "    def leakage(self, pt, ct, guess, bnum):\n",
    "        # Start from known k14\n",
    "        k14 = rec_key\n",
    "        block = [k14[i] ^ pt[i] for i in range(0, 16)]  # AddRoundKey\n",
    "        block = self.inv_shiftrows(block)\n",
    "        x14 = self.inv_subbytes(block)\n",
    "        # Round 14 done, start round 13\n",
    "        block = self.inv_mixcolumns(x14)\n",
    "        block = self.inv_shiftrows(block)\n",
    "        result = block\n",
    "        # Leak after the inv sbox of r13\n",
    "        return self.inv_sbox((result[bnum] ^ guess[bnum]))\n",
    "    \n",
    "# Set up new leakage model\n",
    "leak_model = cwa.leakage_models.new_model(AES256_Round13_Model)\n",
    "attack.leak_model = leak_model"
   ]
  },
  {
   "cell_type": "markdown",
   "metadata": {},
   "source": [
    "#### Running the Attack\n",
    "Set `attack.point_range` to the samples that contain round 13."
   ]
  },
  {
   "cell_type": "code",
   "execution_count": null,
   "metadata": {
    "scrolled": true
   },
   "outputs": [],
   "source": [
    "if PLATFORM == \"CWLITEARM\" or PLATFORM == \"CW308_STM32F3\":\n",
    "    attack.point_range = decrypt(public,[15849, 5765])\n",
    "elif PLATFORM == \"CWLITEXMEGA\" or PLATFORM == \"CW303\":\n",
    "    attack.point_range = decrypt(public,[46957, 16007])\n",
    "\n",
    "# Run attack on round 13, in range defined above\n",
    "cb = cwa.get_jupyter_callback(attack)\n",
    "attack_results = attack.run(cb)"
   ]
  },
  {
   "cell_type": "code",
   "execution_count": null,
   "metadata": {},
   "outputs": [],
   "source": [
    "# Recover round 13 key\n",
    "rec_key2 = []\n",
    "for bnum in attack_results.find_maximums():\n",
    "    print(\"Best Guess = 0x{:02X}, Corr = {}\".format(bnum[0][0], bnum[0][2]))\n",
    "    rec_key2.append(bnum[0][0])\n",
    "    \n",
    "# Transform key to 'real' key\n",
    "real_key2 = cwa.aes_funcs.shiftrows(rec_key2)\n",
    "real_key2 = cwa.aes_funcs.mixcolumns(real_key2)\n",
    "\n",
    "print(\"Recovered:\", end=\"\")\n",
    "for subkey in real_key2:\n",
    "    print(\" {:02X}\".format(subkey), end=\"\")\n",
    "print(\"\")"
   ]
  },
  {
   "cell_type": "code",
   "execution_count": null,
   "metadata": {},
   "outputs": [],
   "source": [
    "# Append r14 key\n",
    "rec_key_comb = real_key2.copy()\n",
    "rec_key_comb.extend(rec_key)\n",
    "\n",
    "print(\"Key:\", end=\"\")\n",
    "for subkey in rec_key_comb:\n",
    "    print(\" {:02X}\".format(subkey), end=\"\")\n",
    "print(\"\")"
   ]
  },
  {
   "cell_type": "code",
   "execution_count": null,
   "metadata": {},
   "outputs": [],
   "source": [
    "# Roll key back to get proper AES key\n",
    "btldr_key = leak_model.key_schedule_rounds(rec_key_comb, 13, 0)\n",
    "btldr_key.extend(leak_model.key_schedule_rounds(rec_key_comb, 13, 1))\n",
    "print(\"Key:\", end=\"\")\n",
    "for subkey in btldr_key:\n",
    "    print(\" {:02X}\".format(subkey), end=\"\")\n",
    "print(\"\")\n",
    "\n",
    "# Check key\n",
    "real_btldr_key_enc = [15336, 3529, 42394, 42472, 30505, 12484, 32645, 3152, 22549, 31026, 5560, 38283, 37002, 22386, 45783, 5737, 14, 43638, 31122, 17972, 19453, 6921, 23470, 43009, 39379, 3529, 33128, 16722, 31089, 42985, 5516, 28658]\n",
    "\n",
    "if decrypt(public,real_btldr_key_enc) == btldr_key:\n",
    "    print(\"Correct key!\")\n",
    "else:\n",
    "    print(\"Try again!\")"
   ]
  },
  {
   "cell_type": "markdown",
   "metadata": {},
   "source": [
    "## Recovering the IV\n",
    "### What to capture"
   ]
  },
  {
   "cell_type": "code",
   "execution_count": null,
   "metadata": {},
   "outputs": [],
   "source": [
    "# Get an overview trace after the falling edge, which is where the IV is used\n",
    "if SCOPETYPE != 'FILE':\n",
    "    scope.adc.samples = 24400\n",
    "    scope.clock.adc_src = \"clkgen_x4\"\n",
    "    scope.adc.basic_mode = \"falling_edge\""
   ]
  },
  {
   "cell_type": "markdown",
   "metadata": {},
   "source": [
    "### Getting the first trace"
   ]
  },
  {
   "cell_type": "code",
   "execution_count": null,
   "metadata": {},
   "outputs": [],
   "source": [
    "iv_overview = capture(3, \"iv_overview\")\n",
    "plot3(iv_overview, x_range=(0,2500), svgfile=\"8.svg\")"
   ]
  },
  {
   "cell_type": "markdown",
   "metadata": {},
   "source": [
    "### Getting the rest of the traces"
   ]
  },
  {
   "cell_type": "markdown",
   "metadata": {},
   "source": [
    "Zoom into the picture above to find the range for capturing traces for IV, and set it in `scope.adc.samples`."
   ]
  },
  {
   "cell_type": "code",
   "execution_count": null,
   "metadata": {},
   "outputs": [],
   "source": [
    "# Number of traces differs per platform\n",
    "if PLATFORM == \"CWLITEARM\" or PLATFORM == \"CW308_STM32F3\":\n",
    "    N = 100 \n",
    "elif PLATFORM == \"CWLITEXMEGA\" or PLATFORM == \"CW303\":\n",
    "    N = 500\n",
    "    \n",
    "# Set up scope and capture\n",
    "if SCOPETYPE != 'FILE':\n",
    "    scope.adc.samples = decrypt(public,[42169])[0]\n",
    "    scope.clock.adc_src = \"clkgen_x4\"\n",
    "    scope.adc.basic_mode = \"falling_edge\"\n",
    "project_iv = capture(N, \"iv_full\", True) # True=> Reset every time so we capture initial IV"
   ]
  },
  {
   "cell_type": "code",
   "execution_count": null,
   "metadata": {},
   "outputs": [],
   "source": [
    "# We're going to use numpy, so convert traces and text\n",
    "trace_array = np.asarray([project_iv.traces[i].wave for i in range(0,N)]) \n",
    "textin_array = np.asarray([project_iv.traces[i].textin for i in range(0,N)])\n",
    "\n",
    "# Get some info\n",
    "num_traces = len(trace_array)\n",
    "trace_len = len(trace_array[0])\n",
    "num_bytes = len(textin_array[0])\n",
    "\n",
    "# Calculate dr array by decrypting the ciphertexts using the known key\n",
    "knownkey = bytes(btldr_key)\n",
    "dr = []\n",
    "aes = AES.new(knownkey, AES.MODE_ECB)\n",
    "for i in range(num_traces):\n",
    "    ct = bytes(textin_array[i])\n",
    "    pt = aes.decrypt(ct)\n",
    "    d = [bytearray(pt)[i] for i in range(16)]\n",
    "    dr.append(d)\n"
   ]
  },
  {
   "cell_type": "markdown",
   "metadata": {},
   "source": [
    "### Analysis\n",
    "#### Doing the 1-Bit Attack"
   ]
  },
  {
   "cell_type": "code",
   "execution_count": null,
   "metadata": {},
   "outputs": [],
   "source": [
    "# Calculate the difference trace for given byte and bit\n",
    "def get_diff(byte, bit):\n",
    "    # Create two groups depending on specific bit\n",
    "    grouped_traces = [[] for _ in range(2)]\n",
    "    for i in range(num_traces):\n",
    "        # Determine bit\n",
    "        bit_split = (dr[i][byte] >> (7-bit)) & 0x01\n",
    "        \n",
    "        # Add to right group\n",
    "        grouped_traces[bit_split].append(trace_array[i])\n",
    "    \n",
    "    # Find averages and differences per group\n",
    "    means0 = np.average(grouped_traces[0], axis=0)\n",
    "    means1 = np.average(grouped_traces[1], axis=0)\n",
    "    return means1 - means0"
   ]
  },
  {
   "cell_type": "code",
   "execution_count": null,
   "metadata": {},
   "outputs": [],
   "source": [
    "bit = 0 # only plot LSB\n",
    "\n",
    "# Do the plot for numbytes and one specific bit\n",
    "output_notebook()\n",
    "p = figure()\n",
    "for byte in range(0,num_bytes):\n",
    "    d = get_diff(byte, bit)\n",
    "    xrange = range(len(d))\n",
    "    p.line(xrange, d, line_color=Category20[16][byte])\n",
    "show(p)\n",
    "p.output_backend = \"svg\"\n",
    "export_svgs(p, filename=\"fig/12_9.svg\")"
   ]
  },
  {
   "cell_type": "code",
   "execution_count": null,
   "metadata": {},
   "outputs": [],
   "source": [
    "# Finds num peaks in the given trace. \n",
    "# Return peaks and their location \n",
    "def findpeaks(trace, num=5):\n",
    "    abstrace = -np.absolute(trace)     # Sort by absolute largest peaks, - for descending\n",
    "    indx = np.argsort(abstrace)[0:num] # Get locations\n",
    "    return (trace[indx], indx) \n",
    "\n",
    "# Obtain start and slope\n",
    "if PLATFORM == \"CWLITEARM\" or PLATFORM == \"CW308_STM32F3\":\n",
    "    (start,slope) = decrypt(public,[38167, 3529])  \n",
    "elif PLATFORM == \"CWLITEXMEGA\" or PLATFORM == \"CW303\":\n",
    "    (start,slope) = decrypt(public,[22386, 23307])"
   ]
  },
  {
   "cell_type": "markdown",
   "metadata": {},
   "source": [
    "Play with `start` and `slope` variables until you get a perfect linear fit through some significant peaks, and peaks that have roughly both green and red circles. "
   ]
  },
  {
   "cell_type": "code",
   "execution_count": null,
   "metadata": {},
   "outputs": [],
   "source": [
    "peak_per_byte = 10 # Number of highest peaks per byte to plot\n",
    "base_radius = 10   # Scale the size of the dots in the graph\n",
    "\n",
    "# Set start and slope here\n",
    "# (start,slope) = (0, 0)\n",
    "locations =  [d*slope+start for d in range(0,num_bytes)]\n",
    "\n",
    "# Find peaks\n",
    "peaks = [findpeaks(get_diff(byte,bit),peak_per_byte) for byte in range(0,num_bytes)]\n",
    "\n",
    "# Plot the peaks per byte. \n",
    "output_notebook()\n",
    "p = figure(x_axis_label=\"Key byte\", y_axis_label=\"Time\")\n",
    "\n",
    "# Create x and y coordinates. For y, we extract the location of the peak.\n",
    "x = np.array([i for i in range(0,num_bytes) for _ in range(0,peak_per_byte)])\n",
    "y = np.array([peaks[byte][1][peak] for byte in range(0,num_bytes) for peak in range(0,peak_per_byte)])\n",
    "\n",
    "# Red = negative peak, green = positive peak, black=no peak\n",
    "pal = np.array([\"red\",\"black\",\"green\"])\n",
    "color = np.array([int(np.sign(peaks[byte][0][peak])+1) for byte in range(0,num_bytes) for peak in range(0,peak_per_byte)])\n",
    "\n",
    "# Radius is relative to size of peak\n",
    "radius = np.array([base_radius * peaks[byte][0][peak] for byte in range(0,num_bytes) for peak in range(0,peak_per_byte)])\n",
    "\n",
    "# Draw red circle for each negative peak, black square for no peak, and green star for positive peak\n",
    "p.circle(x[color==0], y[color==0], fill_color=None, line_color=pal[0], radius=radius[color==0])\n",
    "p.square(x[color==1], y[color==1], fill_color=None, line_color=pal[1], size=radius[color==1]*100)\n",
    "p.star  (x[color==2], y[color==2], fill_color=None, line_color=pal[2], size=radius[color==2]*100)\n",
    "\n",
    "# Plot a line for the exact linear relation\n",
    "x = range(0,num_bytes)\n",
    "y = locations\n",
    "p.line(x, y, color=\"black\")\n",
    "\n",
    "show(p)\n",
    "p.output_backend = \"svg\"\n",
    "export_svgs(p, filename=\"fig/12_10.svg\")"
   ]
  },
  {
   "cell_type": "markdown",
   "metadata": {},
   "source": [
    "#### The Other 127"
   ]
  },
  {
   "cell_type": "code",
   "execution_count": null,
   "metadata": {},
   "outputs": [],
   "source": [
    "flip = 0 # Set to 0 iff negative peaks are a bit value of 0\n",
    "print(\"Bits are flipped:\", flip)\n",
    "\n",
    "btldr_IV = [0] * 16\n",
    "\n",
    "# Loop over all bytes\n",
    "for byte in range(16):\n",
    "    location = locations[byte]\n",
    "    iv = 0\n",
    "    print(\"IV byte {:02d}:\".format(byte), end = \" \")\n",
    "    \n",
    "    # Loop over all bits\n",
    "    for bit in range(8):\n",
    "        # Extract a vector of a plaintext bit for each trace. Byte and bit indicate which bit to extract.\n",
    "        pt_bits = [((dr[i][byte] >> (7-bit)) & 0x01) for i in range(num_traces)]\n",
    "\n",
    "        # Split traces into 2 groups\n",
    "        grouped_points = [[] for _ in range(2)]\n",
    "        for i in range(num_traces):\n",
    "            grouped_points[pt_bits[i]].append(trace_array[i][location])      \n",
    "\n",
    "        # Calculate diff of means\n",
    "        means = []\n",
    "        for i in range(2):\n",
    "            means.append(np.average(grouped_points[i]))\n",
    "        diff = means[1] - means[0]\n",
    "\n",
    "        # Set bit depending on sign of diff\n",
    "        iv_bit = 1 if diff > 0 else 0\n",
    "        iv = (iv << 1) | (iv_bit ^ flip)\n",
    "\n",
    "        print(iv_bit, end = \" \")\n",
    "\n",
    "    print(\"{:02X}\".format(iv))\n",
    "    btldr_IV[byte] = iv\n",
    "    \n",
    "# Check IV\n",
    "real_btldr_IV = decrypt(public,[8565, 22386, 5509, 33004, 9842, 41989, 2894, 24955, 10931, 10114, 12531, 46642, 21602, 22696, 18667, 29186]\n",
    ")\n",
    "if real_btldr_IV == btldr_IV:\n",
    "    print(\"You got the IV!\")\n",
    "else:\n",
    "    print(\"Bummer, no IV. Please come again.\") "
   ]
  },
  {
   "cell_type": "markdown",
   "metadata": {},
   "source": [
    "## Attacking the Signature\n",
    "### Power traces"
   ]
  },
  {
   "cell_type": "code",
   "execution_count": null,
   "metadata": {},
   "outputs": [],
   "source": [
    "# For capturing traces; iterate over all signature bytes\n",
    "def next_sig_byte():\n",
    "    global byte_val\n",
    "    global byte_idx\n",
    "    global iv\n",
    "    global aes\n",
    "    \n",
    "    # Init\n",
    "    text = [0] * 16\n",
    "    text[0:byte_idx] = btldr_sig[0:byte_idx]\n",
    "    \n",
    "    # Set the signature byte\n",
    "    text[byte_idx] = byte_val\n",
    "        \n",
    "    # Apply IV\n",
    "    for i in range(len(iv)):\n",
    "        text[i] ^= iv[i]\n",
    "    \n",
    "    # Encrypt text\n",
    "    ct = aes.encrypt(bytes(text))\n",
    "\n",
    "    # Use ct as new IV\n",
    "    iv[:] = ct[:]\n",
    "    byte_val += 1\n",
    "\n",
    "    # Get \"key\" to satisfy framework\n",
    "    key, _ = ktp.next()\n",
    "\n",
    "    return key, ct"
   ]
  },
  {
   "cell_type": "code",
   "execution_count": null,
   "metadata": {},
   "outputs": [],
   "source": [
    "# Initialize signature variables\n",
    "iv = btldr_IV.copy() \n",
    "knownkey = bytes(btldr_key)\n",
    "aes = AES.new(knownkey, AES.MODE_ECB)\n",
    "btldr_sig = [0] * 4\n",
    "byte_idx = 0\n",
    "byte_val = 0\n",
    "\n",
    "# Capture settings\n",
    "if SCOPETYPE != 'FILE':\n",
    "    scope.adc.basic_mode = \"falling_edge\"\n",
    "    scope.adc.samples = 24000\n",
    "    scope.adc.offset = 0\n",
    "N = 256 # Number of traces\n",
    "\n",
    "# Capture 256 traces for all 256 values of one signature byte\n",
    "target_sync()\n",
    "project_sig = capture(N, \"sig_one\", msg_gen=next_sig_byte)\n",
    "plot3(project_sig)"
   ]
  },
  {
   "cell_type": "markdown",
   "metadata": {},
   "source": [
    "### Analysis"
   ]
  },
  {
   "cell_type": "markdown",
   "metadata": {},
   "source": [
    "Based on the overview trace above, select a `sign_range` in which to check for SPA differences with the mean."
   ]
  },
  {
   "cell_type": "code",
   "execution_count": null,
   "metadata": {},
   "outputs": [],
   "source": [
    "# Analysis range\n",
    "sign_range = decrypt(public,[34264, 16887])\n",
    "sign_range = range(sign_range[0],sign_range[1])\n",
    "\n",
    "# Number of results to show; 1..16\n",
    "numprint = 5 \n",
    "\n",
    "# Guess a signature based on timing differences. Set plot to true to show the top differing traces \n",
    "def guess_signature(project,plot=False,svgfile=None):\n",
    "    # Traces as numpy matrix\n",
    "    traces = np.asarray([project.traces[i].wave for i in range(0,N)])  # if you prefer to work with numpy array for number crunching\n",
    "\n",
    "    # Calculate correlation between mean trace (reference) and individual byte guesses\n",
    "    corr = []\n",
    "    mean = np.average(traces, axis=0) # Reference trace\n",
    "    for i in range(256):\n",
    "        corr.append(np.corrcoef(mean[sign_range], traces[i][sign_range])[0, 1])  \n",
    "        \n",
    "    # Sort to get correlation and bytes\n",
    "    corr_sort = np.sort(corr)\n",
    "    corr_sort_idx = np.argsort(corr)\n",
    "\n",
    "    # Print it\n",
    "    print(\"Correlation values:  \", corr_sort[0:numprint])\n",
    "    print(\"Signature byte guess:\", corr_sort_idx[0:numprint])\n",
    "    \n",
    "    if plot:\n",
    "        # Plot it\n",
    "        output_notebook()\n",
    "        p = figure()\n",
    "        for j in range(numprint):\n",
    "            i = corr_sort_idx[j]\n",
    "            p.line(range(len(traces[i])), traces[i]-mean, line_color=Category20[numprint][j])  \n",
    "        show(p)    \n",
    "        if svgfile:\n",
    "            p.output_backend = \"svg\"\n",
    "            export_svgs(p, filename=f\"fig/12_{svgfile}\")\n",
    "        \n",
    "    return corr_sort_idx\n",
    "    \n",
    "# Guess signature for 1 byte\n",
    "corr_sort_idx = guess_signature(project_sig,True, \"11.svg\")\n"
   ]
  },
  {
   "cell_type": "markdown",
   "metadata": {},
   "source": [
    "### All 4 bytes"
   ]
  },
  {
   "cell_type": "code",
   "execution_count": null,
   "metadata": {},
   "outputs": [],
   "source": [
    "# Initialize \n",
    "btldr_sig = [0] * 4\n",
    "iv = btldr_IV.copy() # Make a copy so next_sig_byte can modify it\n",
    "knownkey = bytes(btldr_key)\n",
    "aes = AES.new(knownkey, AES.MODE_ECB)\n",
    "\n",
    "# Scope and target settings\n",
    "N = 256 # Number of traces\n",
    "if SCOPETYPE != 'FILE':\n",
    "    scope.adc.samples = 24000\n",
    "    scope.adc.offset = 0\n",
    "target_sync()\n",
    "\n",
    "# Loop over 4 sig bytes\n",
    "for bnum in range(4):\n",
    "    # Set byte_idx and byte_val for next_sig_byte\n",
    "    byte_idx = bnum\n",
    "    byte_val = 0\n",
    "    \n",
    "    # Capture\n",
    "    project_sig = capture(N, \"sig_byte\" + str(bnum), msg_gen=next_sig_byte)\n",
    "        \n",
    "    # Analyze and print\n",
    "    btldr_sig[bnum] = guess_signature(project_sig)[0]\n",
    "    print(\"Signature guess:      \", btldr_sig[0:bnum+1])"
   ]
  },
  {
   "cell_type": "code",
   "execution_count": null,
   "metadata": {},
   "outputs": [],
   "source": [
    "# Check it's correct\n",
    "if btldr_sig == decrypt(public, [0, 18667, 10050, 15766]):\n",
    "    print(\"You got the signature too!\")\n",
    "else:\n",
    "    print(\"No signature for you.\")"
   ]
  },
  {
   "cell_type": "code",
   "execution_count": null,
   "metadata": {},
   "outputs": [],
   "source": [
    "if SCOPETYPE != 'FILE':\n",
    "    scope.dis()\n",
    "    target.dis()"
   ]
  }
 ],
 "metadata": {
  "kernelspec": {
   "display_name": "Python 3",
   "language": "python",
   "name": "python3"
  },
  "language_info": {
   "codemirror_mode": {
    "name": "ipython",
    "version": 3
   },
   "file_extension": ".py",
   "mimetype": "text/x-python",
   "name": "python",
   "nbconvert_exporter": "python",
   "pygments_lexer": "ipython3",
   "version": "3.6.7"
  },
  "toc": {
   "base_numbering": 1,
   "nav_menu": {},
   "number_sections": true,
   "sideBar": true,
   "skip_h1_title": false,
   "title_cell": "Table of Contents",
   "title_sidebar": "Contents",
   "toc_cell": false,
   "toc_position": {},
   "toc_section_display": true,
   "toc_window_display": false
  }
 },
 "nbformat": 4,
 "nbformat_minor": 2
}
